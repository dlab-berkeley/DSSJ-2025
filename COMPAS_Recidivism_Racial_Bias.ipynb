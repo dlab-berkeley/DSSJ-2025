{
  "nbformat": 4,
  "nbformat_minor": 0,
  "metadata": {
    "colab": {
      "provenance": [],
      "include_colab_link": true
    },
    "kernelspec": {
      "name": "python3",
      "display_name": "Python 3"
    },
    "language_info": {
      "name": "python"
    }
  },
  "cells": [
    {
      "cell_type": "markdown",
      "metadata": {
        "id": "view-in-github",
        "colab_type": "text"
      },
      "source": [
        "<a href=\"https://colab.research.google.com/github/dlab-berkeley/DSSJ-2025/blob/main/COMPAS_Recidivism_Racial_Bias.ipynb\" target=\"_parent\"><img src=\"https://colab.research.google.com/assets/colab-badge.svg\" alt=\"Open In Colab\"/></a>"
      ]
    },
    {
      "cell_type": "code",
      "source": [
        "# This line of code connects your google drive to the notebook\n",
        "from google.colab import drive\n",
        "drive.mount('/content/drive')"
      ],
      "metadata": {
        "colab": {
          "base_uri": "https://localhost:8080/"
        },
        "id": "4cfWaaDmvw2z",
        "outputId": "04dff572-f4d2-42e2-b2e0-0793003b9a5c"
      },
      "execution_count": null,
      "outputs": [
        {
          "output_type": "stream",
          "name": "stdout",
          "text": [
            "Mounted at /content/drive\n"
          ]
        }
      ]
    },
    {
      "cell_type": "markdown",
      "source": [
        "## DESCRIPTION:\n",
        "\n",
        "The **COMPAS** (*Correctional Offender Management Profiling for Alternative Sanctions*) algorithm is a widely used commercial tool that assists judges and parole officers in assessing a criminal defendant’s likelihood of reoffending. However, [academic studies](https://www.propublica.org/article/how-we-analyzed-the-compas-recidivism-algorithm) have revealed that COMPAS exhibits a racial bias favoring white defendants over Black defendants.\n",
        "\n",
        "A two-year follow-up study, which tracked individuals to see who actually committed crimes or violent crimes post-assessment, demonstrated a troubling pattern of misclassification errors as measured by precision and sensitivity.\n",
        "\n",
        "### SOCIAL JUSTICE IMPLICATION:\n",
        " > What we are going to do in this notebook:\n",
        "\n",
        "  - Explore which features are most influential in predicting the COMPAS risk score or recidivism risk. This analysis can reveal if features like race, gender, or socioeconomic status disproportionately impact the risk assessment, potentially leading to biased outcomes\n",
        "\n",
        "  - Calculate false positives and false negatives for Black and white defendants separately, and assess the disparities in predictive accuracy. This can help you understand the extent of racial bias in the COMPAS algorithm’s predictions.\n",
        "\n",
        "  - Use this dataset to raise awareness about algorithmic bias and its social implications. Developing case studies or presentations on how biases manifest in predictive tools can help inform policy-makers, researchers, and the public about the importance of fairness in criminal justice technology\n",
        "\n",
        "\n",
        "### Data Science Methods:\n",
        "> The purpose of this notebook is to construct different machine learning models to identify and analyze racial bias within the COMPAS dataset. We will use several modeling techniques to predict recidivism and examine whether bias is present in the model's predictions. We will also explore parameter tuning to improve model accuracy and fairness.\n",
        "\n",
        " - Data Cleaning and Preparation\n",
        " - Define Features and Target Variable\n",
        " - Split the Data into Training and Testing Sets\n",
        " - Applying Models for Logistic Regression and CART"
      ],
      "metadata": {
        "id": "W5FArY63ucCi"
      }
    },
    {
      "cell_type": "markdown",
      "source": [
        "---"
      ],
      "metadata": {
        "id": "b8AuDR5qmadZ"
      }
    },
    {
      "cell_type": "markdown",
      "source": [
        "# COMPAS Recidivism Analysis\n",
        "\n",
        "## Step 1: Loading the Dataset\n",
        "\n",
        "\n",
        "Note: The original dataset has been preprocessed and filtered to focus on the specific characteristics relevant to the analysis in this notebook. This dataset is a refined version of the original raw data, titled *compas-scores-two-years.csv*.\n",
        "\n",
        " To begin, let's load the COMPAS recidivism dataset into our environment. This dataset will allow us to examine the factors that contribute to COMPAS risk scores and investigate potential biases.\n",
        "\n",
        "1. **Importing Necessary Libraries:**\n",
        "  To start, we need to import the essential libraries required for data analysis. These libraries provide the tools necessary for loading, manipulating, and analyzing the dataset.\n",
        "\n",
        "2. **Loading the Dataset:**\n",
        "  Using the pandas library, we can employ the read_csv function to load our dataset into a Pandas DataFrame. This DataFrame will allow us to manipulate and analyze the data efficiently within our notebook environment.\n",
        "\n",
        "3. **Inspecting the Dataset:**\n",
        "  After loading the dataset, it’s crucial to familiarize ourselves with its structure. Understanding the organization and composition of the data will guide our analysis. By using the .info() method, we obtain an overview of the dataset, including column names, data types, and counts of non-null values. This initial exploration helps us identify potential data cleaning needs and provides insights into how we might approach further analysis.\n",
        "\n",
        "  ### Brief description of each column in the dataset:\n",
        "  \n",
        "    - **id**: Unique identifier for each record in the dataset.\n",
        "    - **name**: Full name of the individual being assessed.\n",
        "    - **first**: First name of the individual.\n",
        "    - **last**: Last name of the individual.\n",
        "    - **compas_screening_date**: The date when the individual was screened using the COMPAS tool.\n",
        "    - **age**: Age of the individual at the time of screening.\n",
        "    - **c_charge_degree**: Degree of the charge faced by the individual (e.g., misdemeanor, felony).\n",
        "    - **race**: Race of the individual.\n",
        "    - **age_cat**: Age category of the individual, likely grouped (e.g., juvenile, adult).\n",
        "    - **score_text**: The risk category assigned to the individual (e.g., low, medium, high risk).\n",
        "    - **sex**: Gender of the individual (male or female).\n",
        "    - **priors_count**: Number of prior offenses committed by the individual.\n",
        "    - **days_b_screening_arrest**: Number of days between screening and arrest.\n",
        "    - **decile_score**: COMPAS risk score on a scale (typically 1-10), predicting the likelihood of reoffending.\n",
        "    - **is_recid**: Indicates whether the individual recidivated (committed another offense) after screening.\n",
        "    - **two_year_recid**: Indicates if the individual recidivated within two years of the screening.\n",
        "    - **c_jail_in**: Date when the individual was admitted to jail.\n",
        "    - **c_jail_out**: Date when the individual was released from jail.\n",
        "    - **length_of_stay**: Length of time (in days) the individual spent in jail for the particular charge."
      ],
      "metadata": {
        "id": "YXp5RRrImbzQ"
      }
    },
    {
      "cell_type": "code",
      "source": [
        "# Import necessary library\n",
        "import pandas as pd # pandas is a powerful library for data manipulation and analysis\n",
        "import numpy as np # numpy is a fundamental package for numerical computing in Python"
      ],
      "metadata": {
        "id": "YpLMoDrfnkst"
      },
      "execution_count": null,
      "outputs": []
    },
    {
      "cell_type": "code",
      "execution_count": null,
      "metadata": {
        "id": "BdVUKFi3nXvI"
      },
      "outputs": [],
      "source": [
        "# Load the dataset (update the file path as needed)\n",
        "recidivism_data = pd.read_csv('/content/drive/MyDrive/Diego Sotomayor/compas_data.csv')"
      ]
    },
    {
      "cell_type": "code",
      "source": [
        "# Display dataset information to understand its structure\n",
        "recidivism_data.info()"
      ],
      "metadata": {
        "colab": {
          "base_uri": "https://localhost:8080/"
        },
        "id": "a1ZRnVl3xMTT",
        "outputId": "6029940e-478b-4307-b8c2-d1925b563948"
      },
      "execution_count": null,
      "outputs": [
        {
          "output_type": "stream",
          "name": "stdout",
          "text": [
            "<class 'pandas.core.frame.DataFrame'>\n",
            "RangeIndex: 6172 entries, 0 to 6171\n",
            "Data columns (total 19 columns):\n",
            " #   Column                   Non-Null Count  Dtype  \n",
            "---  ------                   --------------  -----  \n",
            " 0   id                       6172 non-null   int64  \n",
            " 1   name                     6172 non-null   object \n",
            " 2   first                    6172 non-null   object \n",
            " 3   last                     6172 non-null   object \n",
            " 4   compas_screening_date    6172 non-null   object \n",
            " 5   age                      6172 non-null   int64  \n",
            " 6   c_charge_degree          6172 non-null   object \n",
            " 7   race                     6172 non-null   object \n",
            " 8   age_cat                  6172 non-null   object \n",
            " 9   score_text               6172 non-null   object \n",
            " 10  sex                      6172 non-null   object \n",
            " 11  priors_count             6172 non-null   int64  \n",
            " 12  days_b_screening_arrest  6172 non-null   float64\n",
            " 13  decile_score             6172 non-null   int64  \n",
            " 14  is_recid                 6172 non-null   int64  \n",
            " 15  two_year_recid           6172 non-null   int64  \n",
            " 16  c_jail_in                6172 non-null   object \n",
            " 17  c_jail_out               6172 non-null   object \n",
            " 18  length_of_stay           6172 non-null   int64  \n",
            "dtypes: float64(1), int64(7), object(11)\n",
            "memory usage: 916.3+ KB\n"
          ]
        }
      ]
    },
    {
      "cell_type": "markdown",
      "source": [
        "## Challenge: Investigating Columns\n",
        "\n",
        "- Take a few moments to examine the column names and infer what kind of data might be stored in each. Which columns seem immediately relevant to the analysis of recidivism?\n",
        "\n",
        "- Which columns might be critical for assessing the risk of recidivism and why?\n",
        "Consider which variables might impact or correlate with a person’s likelihood of reoffending. For example, do you think demographic information (such as age or ethnicity) or previous criminal history might be important?\n",
        "\n",
        "- Are there any columns that seem redundant or irrelevant to our goal of analyzing recidivism risk?\n",
        "\n",
        "- Based on column names, do you see any that could help us investigate bias, especially related to demographic information like race or gender?"
      ],
      "metadata": {
        "id": "Fsg6AXSmqxj5"
      }
    },
    {
      "cell_type": "markdown",
      "source": [
        "---"
      ],
      "metadata": {
        "id": "cVqAO9Y0qEob"
      }
    },
    {
      "cell_type": "markdown",
      "source": [
        "## Step 2: Data Cleaning and EDA\n",
        "\n",
        "Data cleaning and preparation are critical steps in any data science project. Before we can analyze the COMPAS dataset to identify potential bias, we need to ensure the data is clean, consistent, and ready for analysis. In this section, we’ll walk through each cleaning step, explaining what we’re doing and why it’s important.\n",
        "\n"
      ],
      "metadata": {
        "id": "Pgc19ARAqGCI"
      }
    },
    {
      "cell_type": "markdown",
      "source": [
        "1. Dropping Irrelevant Columns\n",
        "  - **Explanation:**\n",
        "  Datasets often include columns that are irrelevant to the specific analysis or model we’re building. Irrelevant columns are those that don’t contribute to our analysis goals or contain sensitive information that could lead to privacy issues. In the COMPAS dataset, columns like Person_ID, LastName, FirstName, and MiddleName don’t offer any value for predicting recidivism risk or analyzing bias. These are identifiers that help distinguish records but don’t add any useful information about the person’s likelihood of reoffending."
      ],
      "metadata": {
        "id": "pKVUlix5yOMi"
      }
    },
    {
      "cell_type": "code",
      "source": [
        "# Dropping columns that are not needed for our analysis\n",
        "# Simplifies the Data\n",
        "# Focuses on Relevant Information:\n",
        "columns_to_drop = ['id', 'name', 'first', 'last', 'compas_screening_date', 'c_jail_in', 'c_jail_out']\n",
        "recidivism_data = recidivism_data.drop(columns=columns_to_drop, errors='ignore')\n"
      ],
      "metadata": {
        "id": "YItynrmay5ZL"
      },
      "execution_count": null,
      "outputs": []
    },
    {
      "cell_type": "code",
      "source": [
        "recidivism_data.head(10)"
      ],
      "metadata": {
        "colab": {
          "base_uri": "https://localhost:8080/",
          "height": 363
        },
        "id": "0DekcW3gAJ_k",
        "outputId": "e652f507-983c-4c36-9f33-e9dd7c976ac5"
      },
      "execution_count": null,
      "outputs": [
        {
          "output_type": "execute_result",
          "data": {
            "text/plain": [
              "   age c_charge_degree              race          age_cat score_text     sex  \\\n",
              "0   69               F             Other  Greater than 45        Low    Male   \n",
              "1   34               F  African-American          25 - 45        Low    Male   \n",
              "2   24               F  African-American     Less than 25        Low    Male   \n",
              "3   44               M             Other          25 - 45        Low    Male   \n",
              "4   41               F         Caucasian          25 - 45     Medium    Male   \n",
              "5   43               F             Other          25 - 45        Low    Male   \n",
              "6   39               M         Caucasian          25 - 45        Low  Female   \n",
              "7   27               F         Caucasian          25 - 45        Low    Male   \n",
              "8   23               M  African-American     Less than 25     Medium    Male   \n",
              "9   37               M         Caucasian          25 - 45        Low  Female   \n",
              "\n",
              "   priors_count  days_b_screening_arrest  decile_score  is_recid  \\\n",
              "0             0                     -1.0             1         0   \n",
              "1             0                     -1.0             3         1   \n",
              "2             4                     -1.0             4         1   \n",
              "3             0                      0.0             1         0   \n",
              "4            14                     -1.0             6         1   \n",
              "5             3                     -1.0             4         0   \n",
              "6             0                     -1.0             1         0   \n",
              "7             0                     -1.0             4         0   \n",
              "8             3                      0.0             6         1   \n",
              "9             0                      0.0             1         0   \n",
              "\n",
              "   two_year_recid  length_of_stay  \n",
              "0               0               0  \n",
              "1               1              10  \n",
              "2               1               1  \n",
              "3               0               1  \n",
              "4               1               6  \n",
              "5               0               0  \n",
              "6               0               2  \n",
              "7               0               1  \n",
              "8               1               4  \n",
              "9               0               0  "
            ],
            "text/html": [
              "\n",
              "  <div id=\"df-cc522deb-cfcf-432e-aab0-39a967468c70\" class=\"colab-df-container\">\n",
              "    <div>\n",
              "<style scoped>\n",
              "    .dataframe tbody tr th:only-of-type {\n",
              "        vertical-align: middle;\n",
              "    }\n",
              "\n",
              "    .dataframe tbody tr th {\n",
              "        vertical-align: top;\n",
              "    }\n",
              "\n",
              "    .dataframe thead th {\n",
              "        text-align: right;\n",
              "    }\n",
              "</style>\n",
              "<table border=\"1\" class=\"dataframe\">\n",
              "  <thead>\n",
              "    <tr style=\"text-align: right;\">\n",
              "      <th></th>\n",
              "      <th>age</th>\n",
              "      <th>c_charge_degree</th>\n",
              "      <th>race</th>\n",
              "      <th>age_cat</th>\n",
              "      <th>score_text</th>\n",
              "      <th>sex</th>\n",
              "      <th>priors_count</th>\n",
              "      <th>days_b_screening_arrest</th>\n",
              "      <th>decile_score</th>\n",
              "      <th>is_recid</th>\n",
              "      <th>two_year_recid</th>\n",
              "      <th>length_of_stay</th>\n",
              "    </tr>\n",
              "  </thead>\n",
              "  <tbody>\n",
              "    <tr>\n",
              "      <th>0</th>\n",
              "      <td>69</td>\n",
              "      <td>F</td>\n",
              "      <td>Other</td>\n",
              "      <td>Greater than 45</td>\n",
              "      <td>Low</td>\n",
              "      <td>Male</td>\n",
              "      <td>0</td>\n",
              "      <td>-1.0</td>\n",
              "      <td>1</td>\n",
              "      <td>0</td>\n",
              "      <td>0</td>\n",
              "      <td>0</td>\n",
              "    </tr>\n",
              "    <tr>\n",
              "      <th>1</th>\n",
              "      <td>34</td>\n",
              "      <td>F</td>\n",
              "      <td>African-American</td>\n",
              "      <td>25 - 45</td>\n",
              "      <td>Low</td>\n",
              "      <td>Male</td>\n",
              "      <td>0</td>\n",
              "      <td>-1.0</td>\n",
              "      <td>3</td>\n",
              "      <td>1</td>\n",
              "      <td>1</td>\n",
              "      <td>10</td>\n",
              "    </tr>\n",
              "    <tr>\n",
              "      <th>2</th>\n",
              "      <td>24</td>\n",
              "      <td>F</td>\n",
              "      <td>African-American</td>\n",
              "      <td>Less than 25</td>\n",
              "      <td>Low</td>\n",
              "      <td>Male</td>\n",
              "      <td>4</td>\n",
              "      <td>-1.0</td>\n",
              "      <td>4</td>\n",
              "      <td>1</td>\n",
              "      <td>1</td>\n",
              "      <td>1</td>\n",
              "    </tr>\n",
              "    <tr>\n",
              "      <th>3</th>\n",
              "      <td>44</td>\n",
              "      <td>M</td>\n",
              "      <td>Other</td>\n",
              "      <td>25 - 45</td>\n",
              "      <td>Low</td>\n",
              "      <td>Male</td>\n",
              "      <td>0</td>\n",
              "      <td>0.0</td>\n",
              "      <td>1</td>\n",
              "      <td>0</td>\n",
              "      <td>0</td>\n",
              "      <td>1</td>\n",
              "    </tr>\n",
              "    <tr>\n",
              "      <th>4</th>\n",
              "      <td>41</td>\n",
              "      <td>F</td>\n",
              "      <td>Caucasian</td>\n",
              "      <td>25 - 45</td>\n",
              "      <td>Medium</td>\n",
              "      <td>Male</td>\n",
              "      <td>14</td>\n",
              "      <td>-1.0</td>\n",
              "      <td>6</td>\n",
              "      <td>1</td>\n",
              "      <td>1</td>\n",
              "      <td>6</td>\n",
              "    </tr>\n",
              "    <tr>\n",
              "      <th>5</th>\n",
              "      <td>43</td>\n",
              "      <td>F</td>\n",
              "      <td>Other</td>\n",
              "      <td>25 - 45</td>\n",
              "      <td>Low</td>\n",
              "      <td>Male</td>\n",
              "      <td>3</td>\n",
              "      <td>-1.0</td>\n",
              "      <td>4</td>\n",
              "      <td>0</td>\n",
              "      <td>0</td>\n",
              "      <td>0</td>\n",
              "    </tr>\n",
              "    <tr>\n",
              "      <th>6</th>\n",
              "      <td>39</td>\n",
              "      <td>M</td>\n",
              "      <td>Caucasian</td>\n",
              "      <td>25 - 45</td>\n",
              "      <td>Low</td>\n",
              "      <td>Female</td>\n",
              "      <td>0</td>\n",
              "      <td>-1.0</td>\n",
              "      <td>1</td>\n",
              "      <td>0</td>\n",
              "      <td>0</td>\n",
              "      <td>2</td>\n",
              "    </tr>\n",
              "    <tr>\n",
              "      <th>7</th>\n",
              "      <td>27</td>\n",
              "      <td>F</td>\n",
              "      <td>Caucasian</td>\n",
              "      <td>25 - 45</td>\n",
              "      <td>Low</td>\n",
              "      <td>Male</td>\n",
              "      <td>0</td>\n",
              "      <td>-1.0</td>\n",
              "      <td>4</td>\n",
              "      <td>0</td>\n",
              "      <td>0</td>\n",
              "      <td>1</td>\n",
              "    </tr>\n",
              "    <tr>\n",
              "      <th>8</th>\n",
              "      <td>23</td>\n",
              "      <td>M</td>\n",
              "      <td>African-American</td>\n",
              "      <td>Less than 25</td>\n",
              "      <td>Medium</td>\n",
              "      <td>Male</td>\n",
              "      <td>3</td>\n",
              "      <td>0.0</td>\n",
              "      <td>6</td>\n",
              "      <td>1</td>\n",
              "      <td>1</td>\n",
              "      <td>4</td>\n",
              "    </tr>\n",
              "    <tr>\n",
              "      <th>9</th>\n",
              "      <td>37</td>\n",
              "      <td>M</td>\n",
              "      <td>Caucasian</td>\n",
              "      <td>25 - 45</td>\n",
              "      <td>Low</td>\n",
              "      <td>Female</td>\n",
              "      <td>0</td>\n",
              "      <td>0.0</td>\n",
              "      <td>1</td>\n",
              "      <td>0</td>\n",
              "      <td>0</td>\n",
              "      <td>0</td>\n",
              "    </tr>\n",
              "  </tbody>\n",
              "</table>\n",
              "</div>\n",
              "    <div class=\"colab-df-buttons\">\n",
              "\n",
              "  <div class=\"colab-df-container\">\n",
              "    <button class=\"colab-df-convert\" onclick=\"convertToInteractive('df-cc522deb-cfcf-432e-aab0-39a967468c70')\"\n",
              "            title=\"Convert this dataframe to an interactive table.\"\n",
              "            style=\"display:none;\">\n",
              "\n",
              "  <svg xmlns=\"http://www.w3.org/2000/svg\" height=\"24px\" viewBox=\"0 -960 960 960\">\n",
              "    <path d=\"M120-120v-720h720v720H120Zm60-500h600v-160H180v160Zm220 220h160v-160H400v160Zm0 220h160v-160H400v160ZM180-400h160v-160H180v160Zm440 0h160v-160H620v160ZM180-180h160v-160H180v160Zm440 0h160v-160H620v160Z\"/>\n",
              "  </svg>\n",
              "    </button>\n",
              "\n",
              "  <style>\n",
              "    .colab-df-container {\n",
              "      display:flex;\n",
              "      gap: 12px;\n",
              "    }\n",
              "\n",
              "    .colab-df-convert {\n",
              "      background-color: #E8F0FE;\n",
              "      border: none;\n",
              "      border-radius: 50%;\n",
              "      cursor: pointer;\n",
              "      display: none;\n",
              "      fill: #1967D2;\n",
              "      height: 32px;\n",
              "      padding: 0 0 0 0;\n",
              "      width: 32px;\n",
              "    }\n",
              "\n",
              "    .colab-df-convert:hover {\n",
              "      background-color: #E2EBFA;\n",
              "      box-shadow: 0px 1px 2px rgba(60, 64, 67, 0.3), 0px 1px 3px 1px rgba(60, 64, 67, 0.15);\n",
              "      fill: #174EA6;\n",
              "    }\n",
              "\n",
              "    .colab-df-buttons div {\n",
              "      margin-bottom: 4px;\n",
              "    }\n",
              "\n",
              "    [theme=dark] .colab-df-convert {\n",
              "      background-color: #3B4455;\n",
              "      fill: #D2E3FC;\n",
              "    }\n",
              "\n",
              "    [theme=dark] .colab-df-convert:hover {\n",
              "      background-color: #434B5C;\n",
              "      box-shadow: 0px 1px 3px 1px rgba(0, 0, 0, 0.15);\n",
              "      filter: drop-shadow(0px 1px 2px rgba(0, 0, 0, 0.3));\n",
              "      fill: #FFFFFF;\n",
              "    }\n",
              "  </style>\n",
              "\n",
              "    <script>\n",
              "      const buttonEl =\n",
              "        document.querySelector('#df-cc522deb-cfcf-432e-aab0-39a967468c70 button.colab-df-convert');\n",
              "      buttonEl.style.display =\n",
              "        google.colab.kernel.accessAllowed ? 'block' : 'none';\n",
              "\n",
              "      async function convertToInteractive(key) {\n",
              "        const element = document.querySelector('#df-cc522deb-cfcf-432e-aab0-39a967468c70');\n",
              "        const dataTable =\n",
              "          await google.colab.kernel.invokeFunction('convertToInteractive',\n",
              "                                                    [key], {});\n",
              "        if (!dataTable) return;\n",
              "\n",
              "        const docLinkHtml = 'Like what you see? Visit the ' +\n",
              "          '<a target=\"_blank\" href=https://colab.research.google.com/notebooks/data_table.ipynb>data table notebook</a>'\n",
              "          + ' to learn more about interactive tables.';\n",
              "        element.innerHTML = '';\n",
              "        dataTable['output_type'] = 'display_data';\n",
              "        await google.colab.output.renderOutput(dataTable, element);\n",
              "        const docLink = document.createElement('div');\n",
              "        docLink.innerHTML = docLinkHtml;\n",
              "        element.appendChild(docLink);\n",
              "      }\n",
              "    </script>\n",
              "  </div>\n",
              "\n",
              "\n",
              "<div id=\"df-a27650b5-a23a-41ce-8484-ff4dea9f517a\">\n",
              "  <button class=\"colab-df-quickchart\" onclick=\"quickchart('df-a27650b5-a23a-41ce-8484-ff4dea9f517a')\"\n",
              "            title=\"Suggest charts\"\n",
              "            style=\"display:none;\">\n",
              "\n",
              "<svg xmlns=\"http://www.w3.org/2000/svg\" height=\"24px\"viewBox=\"0 0 24 24\"\n",
              "     width=\"24px\">\n",
              "    <g>\n",
              "        <path d=\"M19 3H5c-1.1 0-2 .9-2 2v14c0 1.1.9 2 2 2h14c1.1 0 2-.9 2-2V5c0-1.1-.9-2-2-2zM9 17H7v-7h2v7zm4 0h-2V7h2v10zm4 0h-2v-4h2v4z\"/>\n",
              "    </g>\n",
              "</svg>\n",
              "  </button>\n",
              "\n",
              "<style>\n",
              "  .colab-df-quickchart {\n",
              "      --bg-color: #E8F0FE;\n",
              "      --fill-color: #1967D2;\n",
              "      --hover-bg-color: #E2EBFA;\n",
              "      --hover-fill-color: #174EA6;\n",
              "      --disabled-fill-color: #AAA;\n",
              "      --disabled-bg-color: #DDD;\n",
              "  }\n",
              "\n",
              "  [theme=dark] .colab-df-quickchart {\n",
              "      --bg-color: #3B4455;\n",
              "      --fill-color: #D2E3FC;\n",
              "      --hover-bg-color: #434B5C;\n",
              "      --hover-fill-color: #FFFFFF;\n",
              "      --disabled-bg-color: #3B4455;\n",
              "      --disabled-fill-color: #666;\n",
              "  }\n",
              "\n",
              "  .colab-df-quickchart {\n",
              "    background-color: var(--bg-color);\n",
              "    border: none;\n",
              "    border-radius: 50%;\n",
              "    cursor: pointer;\n",
              "    display: none;\n",
              "    fill: var(--fill-color);\n",
              "    height: 32px;\n",
              "    padding: 0;\n",
              "    width: 32px;\n",
              "  }\n",
              "\n",
              "  .colab-df-quickchart:hover {\n",
              "    background-color: var(--hover-bg-color);\n",
              "    box-shadow: 0 1px 2px rgba(60, 64, 67, 0.3), 0 1px 3px 1px rgba(60, 64, 67, 0.15);\n",
              "    fill: var(--button-hover-fill-color);\n",
              "  }\n",
              "\n",
              "  .colab-df-quickchart-complete:disabled,\n",
              "  .colab-df-quickchart-complete:disabled:hover {\n",
              "    background-color: var(--disabled-bg-color);\n",
              "    fill: var(--disabled-fill-color);\n",
              "    box-shadow: none;\n",
              "  }\n",
              "\n",
              "  .colab-df-spinner {\n",
              "    border: 2px solid var(--fill-color);\n",
              "    border-color: transparent;\n",
              "    border-bottom-color: var(--fill-color);\n",
              "    animation:\n",
              "      spin 1s steps(1) infinite;\n",
              "  }\n",
              "\n",
              "  @keyframes spin {\n",
              "    0% {\n",
              "      border-color: transparent;\n",
              "      border-bottom-color: var(--fill-color);\n",
              "      border-left-color: var(--fill-color);\n",
              "    }\n",
              "    20% {\n",
              "      border-color: transparent;\n",
              "      border-left-color: var(--fill-color);\n",
              "      border-top-color: var(--fill-color);\n",
              "    }\n",
              "    30% {\n",
              "      border-color: transparent;\n",
              "      border-left-color: var(--fill-color);\n",
              "      border-top-color: var(--fill-color);\n",
              "      border-right-color: var(--fill-color);\n",
              "    }\n",
              "    40% {\n",
              "      border-color: transparent;\n",
              "      border-right-color: var(--fill-color);\n",
              "      border-top-color: var(--fill-color);\n",
              "    }\n",
              "    60% {\n",
              "      border-color: transparent;\n",
              "      border-right-color: var(--fill-color);\n",
              "    }\n",
              "    80% {\n",
              "      border-color: transparent;\n",
              "      border-right-color: var(--fill-color);\n",
              "      border-bottom-color: var(--fill-color);\n",
              "    }\n",
              "    90% {\n",
              "      border-color: transparent;\n",
              "      border-bottom-color: var(--fill-color);\n",
              "    }\n",
              "  }\n",
              "</style>\n",
              "\n",
              "  <script>\n",
              "    async function quickchart(key) {\n",
              "      const quickchartButtonEl =\n",
              "        document.querySelector('#' + key + ' button');\n",
              "      quickchartButtonEl.disabled = true;  // To prevent multiple clicks.\n",
              "      quickchartButtonEl.classList.add('colab-df-spinner');\n",
              "      try {\n",
              "        const charts = await google.colab.kernel.invokeFunction(\n",
              "            'suggestCharts', [key], {});\n",
              "      } catch (error) {\n",
              "        console.error('Error during call to suggestCharts:', error);\n",
              "      }\n",
              "      quickchartButtonEl.classList.remove('colab-df-spinner');\n",
              "      quickchartButtonEl.classList.add('colab-df-quickchart-complete');\n",
              "    }\n",
              "    (() => {\n",
              "      let quickchartButtonEl =\n",
              "        document.querySelector('#df-a27650b5-a23a-41ce-8484-ff4dea9f517a button');\n",
              "      quickchartButtonEl.style.display =\n",
              "        google.colab.kernel.accessAllowed ? 'block' : 'none';\n",
              "    })();\n",
              "  </script>\n",
              "</div>\n",
              "\n",
              "    </div>\n",
              "  </div>\n"
            ],
            "application/vnd.google.colaboratory.intrinsic+json": {
              "type": "dataframe",
              "variable_name": "recidivism_data",
              "summary": "{\n  \"name\": \"recidivism_data\",\n  \"rows\": 6172,\n  \"fields\": [\n    {\n      \"column\": \"age\",\n      \"properties\": {\n        \"dtype\": \"number\",\n        \"std\": 11,\n        \"min\": 18,\n        \"max\": 96,\n        \"num_unique_values\": 65,\n        \"samples\": [\n          83,\n          80,\n          69\n        ],\n        \"semantic_type\": \"\",\n        \"description\": \"\"\n      }\n    },\n    {\n      \"column\": \"c_charge_degree\",\n      \"properties\": {\n        \"dtype\": \"category\",\n        \"num_unique_values\": 2,\n        \"samples\": [\n          \"M\",\n          \"F\"\n        ],\n        \"semantic_type\": \"\",\n        \"description\": \"\"\n      }\n    },\n    {\n      \"column\": \"race\",\n      \"properties\": {\n        \"dtype\": \"category\",\n        \"num_unique_values\": 6,\n        \"samples\": [\n          \"Other\",\n          \"African-American\"\n        ],\n        \"semantic_type\": \"\",\n        \"description\": \"\"\n      }\n    },\n    {\n      \"column\": \"age_cat\",\n      \"properties\": {\n        \"dtype\": \"category\",\n        \"num_unique_values\": 3,\n        \"samples\": [\n          \"Greater than 45\",\n          \"25 - 45\"\n        ],\n        \"semantic_type\": \"\",\n        \"description\": \"\"\n      }\n    },\n    {\n      \"column\": \"score_text\",\n      \"properties\": {\n        \"dtype\": \"category\",\n        \"num_unique_values\": 3,\n        \"samples\": [\n          \"Low\",\n          \"Medium\"\n        ],\n        \"semantic_type\": \"\",\n        \"description\": \"\"\n      }\n    },\n    {\n      \"column\": \"sex\",\n      \"properties\": {\n        \"dtype\": \"category\",\n        \"num_unique_values\": 2,\n        \"samples\": [\n          \"Female\",\n          \"Male\"\n        ],\n        \"semantic_type\": \"\",\n        \"description\": \"\"\n      }\n    },\n    {\n      \"column\": \"priors_count\",\n      \"properties\": {\n        \"dtype\": \"number\",\n        \"std\": 4,\n        \"min\": 0,\n        \"max\": 38,\n        \"num_unique_values\": 36,\n        \"samples\": [\n          38,\n          15\n        ],\n        \"semantic_type\": \"\",\n        \"description\": \"\"\n      }\n    },\n    {\n      \"column\": \"days_b_screening_arrest\",\n      \"properties\": {\n        \"dtype\": \"number\",\n        \"std\": 5.084708898215579,\n        \"min\": -30.0,\n        \"max\": 30.0,\n        \"num_unique_values\": 56,\n        \"samples\": [\n          -1.0,\n          -24.0\n        ],\n        \"semantic_type\": \"\",\n        \"description\": \"\"\n      }\n    },\n    {\n      \"column\": \"decile_score\",\n      \"properties\": {\n        \"dtype\": \"number\",\n        \"std\": 2,\n        \"min\": 1,\n        \"max\": 10,\n        \"num_unique_values\": 10,\n        \"samples\": [\n          7,\n          3\n        ],\n        \"semantic_type\": \"\",\n        \"description\": \"\"\n      }\n    },\n    {\n      \"column\": \"is_recid\",\n      \"properties\": {\n        \"dtype\": \"number\",\n        \"std\": 0,\n        \"min\": 0,\n        \"max\": 1,\n        \"num_unique_values\": 2,\n        \"samples\": [\n          1,\n          0\n        ],\n        \"semantic_type\": \"\",\n        \"description\": \"\"\n      }\n    },\n    {\n      \"column\": \"two_year_recid\",\n      \"properties\": {\n        \"dtype\": \"number\",\n        \"std\": 0,\n        \"min\": 0,\n        \"max\": 1,\n        \"num_unique_values\": 2,\n        \"samples\": [\n          1,\n          0\n        ],\n        \"semantic_type\": \"\",\n        \"description\": \"\"\n      }\n    },\n    {\n      \"column\": \"length_of_stay\",\n      \"properties\": {\n        \"dtype\": \"number\",\n        \"std\": 46,\n        \"min\": -1,\n        \"max\": 799,\n        \"num_unique_values\": 241,\n        \"samples\": [\n          9,\n          14\n        ],\n        \"semantic_type\": \"\",\n        \"description\": \"\"\n      }\n    }\n  ]\n}"
            }
          },
          "metadata": {},
          "execution_count": 6
        }
      ]
    },
    {
      "cell_type": "markdown",
      "source": [
        "> Before applying any model to our data.we should aim to understand the demographic distribution of defendants by race in the COMPAS dataset. By calculating the percentage representation of each racial group, we can observe potential disparities that might influence the overall risk assessment outcomes. This breakdown serves as a preliminary step in identifying possible biases within the dataset that could affect certain demographic groups."
      ],
      "metadata": {
        "id": "izIRei2MjvYH"
      }
    },
    {
      "cell_type": "code",
      "source": [
        "# Run this code\n",
        "\n",
        "# Total number of rows\n",
        "total_rows = len(recidivism_data)\n",
        "\n",
        "# Calculating the percentage of each race category\n",
        "print(\"Black defendants: {:.2f}%\".format((3175 / total_rows) * 100))\n",
        "print(\"White defendants: {:.2f}%\".format((2103 / total_rows) * 100))\n",
        "print(\"Hispanic defendants: {:.2f}%\".format((509 / total_rows) * 100))\n",
        "print(\"Asian defendants: {:.2f}%\".format((31 / total_rows) * 100))\n",
        "print(\"Native American defendants: {:.2f}%\".format((11 / total_rows) * 100))"
      ],
      "metadata": {
        "colab": {
          "base_uri": "https://localhost:8080/"
        },
        "id": "YrNvymxzjxY7",
        "outputId": "32bf7389-ba4f-44fd-be34-01724a3ef095"
      },
      "execution_count": null,
      "outputs": [
        {
          "output_type": "stream",
          "name": "stdout",
          "text": [
            "Black defendants: 51.44%\n",
            "White defendants: 34.07%\n",
            "Hispanic defendants: 8.25%\n",
            "Asian defendants: 0.50%\n",
            "Native American defendants: 0.18%\n"
          ]
        }
      ]
    },
    {
      "cell_type": "code",
      "source": [
        "# Summary of 'sex' column\n",
        "sex_summary = recidivism_data['sex'].value_counts().sort_index()\n",
        "print(\"\\nSex Breakdown:\")\n",
        "print(sex_summary)\n",
        "\n",
        "# Calculating the percentage of each sex category\n",
        "print(\"Men: {:.2f}%\".format((4997 / total_rows) * 100))\n",
        "print(\"Women: {:.2f}%\".format((1175 / total_rows) * 100))"
      ],
      "metadata": {
        "colab": {
          "base_uri": "https://localhost:8080/"
        },
        "id": "KPqsG7uPnJp-",
        "outputId": "4dd5dc44-40b1-43eb-ee32-e648d9b7ea31"
      },
      "execution_count": null,
      "outputs": [
        {
          "output_type": "stream",
          "name": "stdout",
          "text": [
            "\n",
            "Sex Breakdown:\n",
            "sex\n",
            "Female    1175\n",
            "Male      4997\n",
            "Name: count, dtype: int64\n",
            "Men: 80.96%\n",
            "Women: 19.04%\n"
          ]
        }
      ]
    },
    {
      "cell_type": "markdown",
      "source": [
        ">Let's analyze the relationship between these two categorical variables. In this case we can use a function from the panda library **pd.crosstab()**. This function shows the count of each unique combination of the two variables (sex and race), allowing you to observe how many individuals belong to each group."
      ],
      "metadata": {
        "id": "ts1J_woajvcX"
      }
    },
    {
      "cell_type": "code",
      "source": [
        "# Cross-tabulation of 'sex' and 'race'\n",
        "sex_race_ct = pd.crosstab(recidivism_data['sex'], recidivism_data['race'])\n",
        "print(\"\\nSex by Race Breakdown:\")\n",
        "print(sex_race_ct)"
      ],
      "metadata": {
        "colab": {
          "base_uri": "https://localhost:8080/"
        },
        "id": "IieWKB6lmqac",
        "outputId": "b0ba3f67-997e-489c-8c67-2ca96b9a4ed2"
      },
      "execution_count": null,
      "outputs": [
        {
          "output_type": "stream",
          "name": "stdout",
          "text": [
            "\n",
            "Sex by Race Breakdown:\n",
            "race    African-American  Asian  Caucasian  Hispanic  Native American  Other\n",
            "sex                                                                         \n",
            "Female               549      2        482        82                2     58\n",
            "Male                2626     29       1621       427                9    285\n"
          ]
        }
      ]
    },
    {
      "cell_type": "markdown",
      "source": [
        "Based on this small analyis on just two column of our dataset. Here are some questions for you to start thinking aboout:\n",
        "\n",
        "1. Based on the racial distribution, which racial group has the highest representation among defendants, and what might this overrepresentation suggest in terms of systemic issues?\n",
        "\n",
        "2. Given the disproportionate racial distribution, how might the biases in this data affect the accuracy and fairness of predictive models like COMPAS?\n",
        "\n",
        "3. What strategies could be implemented to reduce potential biases in datasets like this one, particularly for use in predictive algorithms?"
      ],
      "metadata": {
        "id": "O5NJntGMjvhY"
      }
    },
    {
      "cell_type": "markdown",
      "source": [
        "----"
      ],
      "metadata": {
        "id": "6oDd3OELtSF1"
      }
    },
    {
      "cell_type": "markdown",
      "source": [
        "###Visualizing key variables can often provide deeper insights into our data, allowing us to better understand patterns and relationships within the dataset! Let's try it!"
      ],
      "metadata": {
        "id": "k6ulHY86jvkE"
      }
    },
    {
      "cell_type": "markdown",
      "source": [
        "###STEP 1:\n",
        ">Import Necessary Libraries:\n",
        " - Matplotlib (plt): A plotting library in Python that provides control over plotting, useful for setting figure layouts.\n",
        " - Seaborn (sns): A library built on top of Matplotlib, making it easier to create informative statistical graphics. Here, it simplifies creating bar plots with count data."
      ],
      "metadata": {
        "id": "fSeOSUBFjvpk"
      }
    },
    {
      "cell_type": "code",
      "source": [
        "import matplotlib.pyplot as plt\n",
        "import seaborn as sns"
      ],
      "metadata": {
        "id": "UvS1F3iYrkny"
      },
      "execution_count": null,
      "outputs": []
    },
    {
      "cell_type": "markdown",
      "source": [
        "###STEP 2:\n",
        ">Filter the Data for Specific Groups:\n",
        " - Data Filtering: We’re creating two new DataFrames, df_black and df_white, to separately analyze African-American and Caucasian defendants.\n",
        " - Reason for Filtering: By analyzing these groups separately, we can compare their distributions and detect potential differences or biases in decile scores assigned to different racial groups."
      ],
      "metadata": {
        "id": "oFCb-lS6jvm6"
      }
    },
    {
      "cell_type": "code",
      "source": [
        "# Filter data for African-American and Caucasian defendants\n",
        "df_black = recidivism_data[recidivism_data['race'] == 'African-American']\n",
        "df_white = recidivism_data[recidivism_data['race'] == 'Caucasian']"
      ],
      "metadata": {
        "id": "Sg9VDjt-tsIL"
      },
      "execution_count": null,
      "outputs": []
    },
    {
      "cell_type": "markdown",
      "source": [
        "###STEP 3:\n",
        ">Set Up the Plotting Figure for Side-by-Side Plots:\n",
        " - plt.subplots(1, 2, ...): Creates a figure with 1 row and 2 columns of subplots, allowing us to place two plots side by side.\n",
        " - figsize=(14, 6): Sets the size of the figure. Adjusting the figure size can make plots easier to read and compare.\n",
        " - sharey=True: Ensures that both plots share the same y-axis, making it easy to compare counts between the two groups.\n",
        "\n",
        ">Create a Bar Plot:\n",
        "\n",
        " - sns.countplot(): Creates a bar plot showing the count of each unique value in decile_score for African-American defendants. This is a quick way to visualize the distribution of a categorical variable.\n",
        " - order=sorted(df['decile_score'].unique()): Ensures the x-axis (decile score) is ordered correctly from 1 to 10, improving readability.\n",
        " - ax=axes[0]: Directs the plot to the first subplot (left side).\n",
        " - Additional Plot Formatting:\n",
        "    - set_title: Adds a title to the subplot.\n",
        "    - set_xlabel and set_ylabel: Label the x and y axes, respectively, for context.\n",
        "    - set_ylim(0, 650): Sets the y-axis limit to make both plots directly comparable."
      ],
      "metadata": {
        "id": "KZSvvJg4jvsG"
      }
    },
    {
      "cell_type": "code",
      "source": [
        "# Set up the figure for side-by-side bar plots\n",
        "fig, axes = plt.subplots(1, 2, figsize=(14, 6), sharey=True)\n",
        "\n",
        "# Plot for African-American defendants\n",
        "sns.countplot(data=df_black, x='decile_score', order=sorted(recidivism_data['decile_score'].unique()), ax=axes[0], color=\"blue\")\n",
        "axes[0].set_title(\"Black Defendant's Decile Scores\")\n",
        "axes[0].set_xlabel(\"Decile Score\")\n",
        "axes[0].set_ylim(0, 650)\n",
        "axes[0].set_ylabel(\"Count\")\n",
        "\n",
        "\n",
        "# Plot for Caucasian defendants\n",
        "sns.countplot(data=df_white, x='decile_score', order=sorted(recidivism_data['decile_score'].unique()), ax=axes[1], color=\"green\")\n",
        "axes[1].set_title(\"White Defendant's Decile Scores\")\n",
        "axes[1].set_xlabel(\"Decile Score\")\n",
        "axes[1].set_ylim(0, 650)\n",
        "axes[1].set_ylabel(\"Count\")"
      ],
      "metadata": {
        "colab": {
          "base_uri": "https://localhost:8080/",
          "height": 581
        },
        "id": "7Buwikj2uumg",
        "outputId": "982163dd-98e1-4df0-809e-8576d0cf9204"
      },
      "execution_count": null,
      "outputs": [
        {
          "output_type": "execute_result",
          "data": {
            "text/plain": [
              "Text(0, 0.5, 'Count')"
            ]
          },
          "metadata": {},
          "execution_count": 25
        },
        {
          "output_type": "display_data",
          "data": {
            "text/plain": [
              "<Figure size 1400x600 with 2 Axes>"
            ],
            "image/png": "[encoded data removed]"
          },
          "metadata": {}
        }
      ]
    },
    {
      "cell_type": "code",
      "source": [
        "# Generate a cross-tabulation of decile scores by race to analyze the distribution of scores within each racial group\n",
        "# This table provides insight into the frequency of each decile score across different races, helping to identify potential patterns or disparities.\n",
        "decile_race_ct = pd.crosstab(recidivism_data['decile_score'], recidivism_data['race'])\n",
        "print(\"\\nDecile Score by Race Cross-tabulation:\")\n",
        "print(decile_race_ct)"
      ],
      "metadata": {
        "colab": {
          "base_uri": "https://localhost:8080/"
        },
        "id": "yqhnVhYYvzbo",
        "outputId": "413be35e-30ef-4e01-af40-6e2a19784d75"
      },
      "execution_count": null,
      "outputs": [
        {
          "output_type": "stream",
          "name": "stdout",
          "text": [
            "\n",
            "Decile Score by Race Cross-tabulation:\n",
            "race          African-American  Asian  Caucasian  Hispanic  Native American  \\\n",
            "decile_score                                                                  \n",
            "1                          365     15        605       159                0   \n",
            "2                          346      4        321        89                2   \n",
            "3                          298      5        238        73                1   \n",
            "4                          337      0        243        47                0   \n",
            "5                          323      1        200        39                0   \n",
            "6                          318      2        160        27                2   \n",
            "7                          343      1        113        28                2   \n",
            "8                          301      2         96        14                0   \n",
            "9                          317      0         77        17                2   \n",
            "10                         227      1         50        16                2   \n",
            "\n",
            "race          Other  \n",
            "decile_score         \n",
            "1               142  \n",
            "2                60  \n",
            "3                32  \n",
            "4                39  \n",
            "5                19  \n",
            "6                20  \n",
            "7                 9  \n",
            "8                 7  \n",
            "9                 7  \n",
            "10                8  \n"
          ]
        }
      ]
    },
    {
      "cell_type": "markdown",
      "source": [
        "**Note**: The COMPAS system assigns defendants two types of scores: a categorical risk score (High, Medium, Low) and a corresponding decile score ranging from 1 to 10, with higher deciles indicating a higher predicted risk of reoffending. These scores play a crucial role in influencing judicial decisions by providing a quantitative assessment of a defendant's risk level.\n",
        "\n",
        "\n",
        "## > What observations and inferences can be drawn from the plots?\n",
        "\n",
        "  > The decile score distribution reveals significant racial disparities that could impact the fairness of judicial outcomes. The higher frequency of low-risk classifications for White defendants, contrasted with the more even distribution for Black defendants, suggests potential bias in the risk assessment process. This insight underscores the importance of critically evaluating and potentially reforming predictive tools like COMPAS to promote equity within the criminal justice system.\n",
        "\n",
        "- Questions to Consider:\n",
        "\n",
        " - Why is there such a clear downward trend in decile scores for White defendants, and what factors might contribute to this?\n",
        " - How does the even distribution of decile scores for Black defendants reflect broader issues within the dataset or algorithm?"
      ],
      "metadata": {
        "id": "U_VTisNyu9U8"
      }
    },
    {
      "cell_type": "markdown",
      "source": [
        "---"
      ],
      "metadata": {
        "id": "NxemJXDKu9cc"
      }
    },
    {
      "cell_type": "markdown",
      "source": [
        "## After thoroughly analyzing the dataset and identifying the relevant variables of interest, I believe it is time to proceed with applying models to the data!"
      ],
      "metadata": {
        "id": "yVY56fd7u9lk"
      }
    },
    {
      "cell_type": "markdown",
      "source": [
        "In a task as sensitive as predicting recidivism, it’s essential to select a model that balances accuracy with interpretability. Logistic regression’s simplicity and transparency make it a strong choice for this purpose. Similarly, CART offers a compelling alternative, especially for capturing non-linear relationships within the data. We will apply both methods to evaluate their effectiveness in prediction and assess how well each allows us to detect potential biases in the data. Ultimately, our goal is to determine which model provides the best balance of accuracy, fairness, and interpretability."
      ],
      "metadata": {
        "id": "44K7LMJE7B-9"
      }
    },
    {
      "cell_type": "markdown",
      "source": [
        "# LOGISTIC REGRESION\n",
        "\n",
        "## Why Use Logistic Regression for Predicting Recidivism?\n",
        "Predicting recidivism—whether someone is likely to re-offend—can be framed as a binary classification problem, where the two possible outcomes are \"recidivist\" (1) or \"non-recidivist\" (0)\n",
        "\n",
        "\n",
        "\n",
        "Steps:\n",
        "\n",
        "1. Baseline Evaluation\n",
        "2. Data Preparation\n",
        "3. Logistic Regression Models\n",
        "4. Model Evaluation"
      ],
      "metadata": {
        "id": "t-DS_kJD7LyA"
      }
    },
    {
      "cell_type": "code",
      "source": [
        "# Importing Required Libraries\n",
        "from sklearn.model_selection import train_test_split\n",
        "from sklearn.linear_model import LogisticRegression\n",
        "from sklearn.metrics import confusion_matrix, accuracy_score, classification_report\n",
        "import statsmodels.api as sm"
      ],
      "metadata": {
        "id": "5MQGogqB7Kn-"
      },
      "execution_count": null,
      "outputs": []
    },
    {
      "cell_type": "markdown",
      "source": [
        "---"
      ],
      "metadata": {
        "id": "nTcBMgRUfzH7"
      }
    },
    {
      "cell_type": "code",
      "source": [
        "# Step 1: Encoding Categorical Variables\n",
        "recidivism_data['gender_factor'] = recidivism_data['sex'].apply(lambda x: 1 if x == 'Female' else 0)\n",
        "recidivism_data['age_factor'] = recidivism_data['age_cat'].apply(lambda x: 1 if x == 'Greater than 45' else (2 if x == 'Less than 25' else 0))\n",
        "race_map = {'Caucasian': 0,\n",
        "            'African-American': 1,\n",
        "            'Asian': 2,\n",
        "            'Hispanic': 3,\n",
        "            'Native American': 4,\n",
        "            'Other': 5}\n",
        "\n",
        "recidivism_data['race_factor'] = recidivism_data['race'].map(race_map)\n",
        "recidivism_data['score_factor'] = recidivism_data['score_text'].apply(lambda x: 1 if x == 'High' else 0)\n",
        "recidivism_data['crime_factor'] = recidivism_data['c_charge_degree'].apply(lambda x: 1 if x == 'M' else 0)"
      ],
      "metadata": {
        "id": "OYrEf84n7RCy"
      },
      "execution_count": null,
      "outputs": []
    },
    {
      "cell_type": "code",
      "source": [
        "# Step 2: Define Independent and Dependent Variables\n",
        "X = recidivism_data[['gender_factor', 'age_factor', 'race_factor', 'priors_count', 'crime_factor', 'two_year_recid']]\n",
        "y = recidivism_data['score_factor']"
      ],
      "metadata": {
        "id": "PvYWOUwF8dvv"
      },
      "execution_count": null,
      "outputs": []
    },
    {
      "cell_type": "code",
      "source": [
        "# Add a constant for the intercept\n",
        "X = sm.add_constant(X)"
      ],
      "metadata": {
        "id": "nowceMtq8lg7"
      },
      "execution_count": null,
      "outputs": []
    },
    {
      "cell_type": "code",
      "source": [
        "# Step 3: Train-Test Split\n",
        "X_train, X_test, y_train, y_test = train_test_split(X, y, test_size=0.3, random_state=88)"
      ],
      "metadata": {
        "id": "NpXQOkbO8qkT"
      },
      "execution_count": null,
      "outputs": []
    },
    {
      "cell_type": "code",
      "source": [
        "# Step 4: Logistic Regression Model\n",
        "logit_model = sm.Logit(y_train, X_train)  # Initialize the model\n",
        "log_reg = logit_model.fit()  # Fit the model"
      ],
      "metadata": {
        "colab": {
          "base_uri": "https://localhost:8080/"
        },
        "id": "1kuXBFp_9xbi",
        "outputId": "5c4bea6e-635a-4107-9f48-0f75d15b14ed"
      },
      "execution_count": null,
      "outputs": [
        {
          "output_type": "stream",
          "name": "stdout",
          "text": [
            "Optimization terminated successfully.\n",
            "         Current function value: 0.389664\n",
            "         Iterations 7\n"
          ]
        }
      ]
    },
    {
      "cell_type": "code",
      "source": [
        "# The summary includes coefficients, standard errors, z-values, p-values, and confidence intervals\n",
        "print(log_reg.summary())"
      ],
      "metadata": {
        "colab": {
          "base_uri": "https://localhost:8080/"
        },
        "id": "XNxHuWuZGAOj",
        "outputId": "ef61d6ed-df95-4562-e357-a96ae781fe49"
      },
      "execution_count": null,
      "outputs": [
        {
          "output_type": "stream",
          "name": "stdout",
          "text": [
            "                           Logit Regression Results                           \n",
            "==============================================================================\n",
            "Dep. Variable:           score_factor   No. Observations:                 4320\n",
            "Model:                          Logit   Df Residuals:                     4313\n",
            "Method:                           MLE   Df Model:                            6\n",
            "Date:                Tue, 12 Nov 2024   Pseudo R-squ.:                  0.1797\n",
            "Time:                        13:03:17   Log-Likelihood:                -1683.3\n",
            "converged:                       True   LL-Null:                       -2052.1\n",
            "Covariance Type:            nonrobust   LLR p-value:                4.846e-156\n",
            "==================================================================================\n",
            "                     coef    std err          z      P>|z|      [0.025      0.975]\n",
            "----------------------------------------------------------------------------------\n",
            "const             -2.8265      0.113    -24.962      0.000      -3.048      -2.605\n",
            "gender_factor     -0.0521      0.122     -0.427      0.670      -0.291       0.187\n",
            "age_factor         0.4092      0.054      7.567      0.000       0.303       0.515\n",
            "race_factor       -0.0720      0.040     -1.808      0.071      -0.150       0.006\n",
            "priors_count       0.1572      0.009     17.083      0.000       0.139       0.175\n",
            "crime_factor      -0.4467      0.101     -4.422      0.000      -0.645      -0.249\n",
            "two_year_recid     1.0519      0.095     11.098      0.000       0.866       1.238\n",
            "==================================================================================\n"
          ]
        }
      ]
    },
    {
      "cell_type": "code",
      "source": [
        "# Step 5: Model Predictions\n",
        "y_pred = log_reg.predict(X_test)\n",
        "y_prob = log_reg.predict_proba(X_test)[:, 1]  # Predicted probabilities for positive class"
      ],
      "metadata": {
        "id": "wJZ_pha2CQSK"
      },
      "execution_count": null,
      "outputs": []
    },
    {
      "cell_type": "code",
      "source": [
        "# Step 6: Model Evaluation\n",
        "# Confusion Matrix\n",
        "conf_matrix = confusion_matrix(y_test, y_pred)\n",
        "print(\"Confusion Matrix:\\n\", conf_matrix)"
      ],
      "metadata": {
        "colab": {
          "base_uri": "https://localhost:8080/"
        },
        "id": "TWy-LFaFCcGm",
        "outputId": "a1a043cd-449f-4080-c2d5-dbe336e0267a"
      },
      "execution_count": null,
      "outputs": [
        {
          "output_type": "stream",
          "name": "stdout",
          "text": [
            "Confusion Matrix:\n",
            " [[1461   35]\n",
            " [ 286   70]]\n"
          ]
        }
      ]
    },
    {
      "cell_type": "code",
      "source": [
        "# Accuracy\n",
        "accuracy = accuracy_score(y_test, y_pred)\n",
        "print(f\"Accuracy: {accuracy:.4f}\")"
      ],
      "metadata": {
        "colab": {
          "base_uri": "https://localhost:8080/"
        },
        "id": "wACmcgBFCeVs",
        "outputId": "c93d4870-799c-4d9d-85df-0cd3dd6a122d"
      },
      "execution_count": null,
      "outputs": [
        {
          "output_type": "stream",
          "name": "stdout",
          "text": [
            "Accuracy: 0.8267\n"
          ]
        }
      ]
    },
    {
      "cell_type": "markdown",
      "source": [
        "**Question:** Does high accuracy guarantee that our model is fair or unbiased? Why or why not?"
      ],
      "metadata": {
        "id": "pCi_DxRQY3Xn"
      }
    },
    {
      "cell_type": "markdown",
      "source": [
        "## Confusion Matrix and Accuracy\n",
        "\n",
        "- Confusion Matrix: Shows the model's performance in terms of True Positives (TP), False Positives (FP), True Negatives (TN), and False Negatives (FN). Here, accuracy is 82.67%, which indicates the proportion of correct predictions.\n",
        "\n",
        "- Accuracy measures how often the model correctly classifies an instance. However, high accuracy does not imply fairness or lack of bias, especially in social justice contexts like predicting recidivism.\n",
        "\n",
        "**Question:** What role do social and ethical considerations play when interpreting the results of a predictive model, especially in sensitive areas like criminal justice?\n",
        "\n",
        "**Question:** How should we incorporate these considerations when making decisions based on the model’s predictions?"
      ],
      "metadata": {
        "id": "lD0n5lWxVZCW"
      }
    },
    {
      "cell_type": "code",
      "source": [
        "# Classification Report\n",
        "print(\"Classification Report:\\n\", classification_report(y_test, y_pred))"
      ],
      "metadata": {
        "colab": {
          "base_uri": "https://localhost:8080/"
        },
        "id": "KvVJlpiaCiU7",
        "outputId": "67dbd43c-0393-4cbe-df39-c7dd29b9fb2e"
      },
      "execution_count": null,
      "outputs": [
        {
          "output_type": "stream",
          "name": "stdout",
          "text": [
            "Classification Report:\n",
            "               precision    recall  f1-score   support\n",
            "\n",
            "           0       0.84      0.98      0.90      1496\n",
            "           1       0.67      0.20      0.30       356\n",
            "\n",
            "    accuracy                           0.83      1852\n",
            "   macro avg       0.75      0.59      0.60      1852\n",
            "weighted avg       0.80      0.83      0.79      1852\n",
            "\n"
          ]
        }
      ]
    },
    {
      "cell_type": "markdown",
      "source": [
        "## Classification Report\n",
        "\n",
        "- The Classification Report includes metrics like precision, recall, and F1-score for each class. In this case, the model has lower recall (sensitivity) for the positive class (predicted recidivism), which might indicate bias if it fails to correctly identify individuals who are at high risk of recidivism, affecting interventions and outcomes.\n",
        "\n",
        "- Precision and Recall are especially important for social justice applications since they show the model’s effectiveness at predicting recidivism without falsely labeling individuals, which could lead to unequal treatment or profiling.\n",
        "\n",
        "**Question:** How might this affect individuals from different demographic groups, and what changes could we consider to ensure a fairer model?"
      ],
      "metadata": {
        "id": "LNhPpG6mV6JB"
      }
    },
    {
      "cell_type": "code",
      "source": [
        "# Step 7: Feature Importance for Bias Detection\n",
        "# Checking model coefficients for demographic influences\n",
        "feature_names = X.columns\n",
        "coefficients = log_reg.coef_[0]\n",
        "for feature, coef in zip(feature_names, coefficients):\n",
        "    print(f\"{feature}: {coef:.4f}\")"
      ],
      "metadata": {
        "colab": {
          "base_uri": "https://localhost:8080/"
        },
        "id": "VLsPYcAwCnaf",
        "outputId": "69d39a26-9926-420c-8e5d-bf5df98bd9da"
      },
      "execution_count": null,
      "outputs": [
        {
          "output_type": "stream",
          "name": "stdout",
          "text": [
            "const: -0.0044\n",
            "gender_factor: -0.0503\n",
            "age_factor: 0.4083\n",
            "race_factor: -0.0717\n",
            "priors_count: 0.1573\n",
            "crime_factor: -0.4428\n",
            "two_year_recid: 1.0422\n"
          ]
        }
      ]
    },
    {
      "cell_type": "markdown",
      "source": [
        "## Feature importance for Bias Detection\n",
        "\n",
        "  - The coefficients from logistic regression provide insight into feature importance and potential biases. For instance:\n",
        "\n",
        "    - A positive coefficient (e.g., age_factor: 0.4083) indicates that an increase in this variable increases the likelihood of predicting recidivism.\n",
        "\n",
        "    - The gender_factor and race_factor coefficients indicate how these demographic variables influence predictions. A significant, positive coefficient for certain racial or gender groups might suggest bias, meaning the model is more likely to predict recidivism for individuals from these groups.\n",
        "\n",
        "  - Social justice analysis involves examining whether variables like race_factor or gender_factor unfairly influence the prediction, which could reflect systemic biases in the data or model."
      ],
      "metadata": {
        "id": "f3jz9mPdWE8M"
      }
    },
    {
      "cell_type": "code",
      "source": [
        "# Step 8: Adjusting Decision Threshold\n",
        "# Set threshold to 0.4 instead of 0.5 and evaluate the change in performance\n",
        "y_pred_adjusted = (y_prob > 0.4).astype(int)\n",
        "conf_matrix_adjusted = confusion_matrix(y_test, y_pred_adjusted)\n",
        "accuracy_adjusted = accuracy_score(y_test, y_pred_adjusted)\n",
        "\n",
        "print(\"Adjusted Confusion Matrix:\\n\", conf_matrix_adjusted)\n",
        "print(f\"Adjusted Accuracy: {accuracy_adjusted:.4f}\")"
      ],
      "metadata": {
        "colab": {
          "base_uri": "https://localhost:8080/"
        },
        "id": "cmYJ6KQsCsTL",
        "outputId": "1284b176-4e69-436c-f55c-283552b8d73a"
      },
      "execution_count": null,
      "outputs": [
        {
          "output_type": "stream",
          "name": "stdout",
          "text": [
            "Adjusted Confusion Matrix:\n",
            " [[1425   71]\n",
            " [ 255  101]]\n",
            "Adjusted Accuracy: 0.8240\n"
          ]
        }
      ]
    },
    {
      "cell_type": "markdown",
      "source": [
        "## Adjusted Decision Threshold\n",
        "\n",
        "- By adjusting the decision threshold from 0.5 to 0.4, the model can become more sensitive to predicting the positive class (recidivism), potentially increasing the True Positive Rate (sensitivity). This adjustment can be a strategy to ensure more individuals at high risk are correctly identified but may also lead to more false positives.\n",
        "\n",
        "- Adjusted Confusion Matrix: After changing the threshold, the adjusted confusion matrix reflects the change in prediction distribution. While accuracy remains similar, other social justice metrics, such as False Positive Rate (FPR), need to be checked to ensure fairness."
      ],
      "metadata": {
        "id": "dvS6pRZWWVEF"
      }
    },
    {
      "cell_type": "code",
      "source": [
        "# Separate confusion matrix calculations by race group\n",
        "for race, group_data in recidivism_data.groupby('race_factor'):\n",
        "    y_test_race = y_test[group_data.index]\n",
        "    y_pred_race = (y_prob[group_data.index] > 0.5).astype(int)\n",
        "\n",
        "    conf_matrix_race = confusion_matrix(y_test_race, y_pred_race)\n",
        "    print(f\"Confusion Matrix for Race Group {race}:\\n\", conf_matrix_race)\n",
        "\n",
        "    # Calculate false positive and false negative rates\n",
        "    FP = conf_matrix_race[0, 1]\n",
        "    FN = conf_matrix_race[1, 0]\n",
        "    TN = conf_matrix_race[0, 0]\n",
        "    TP = conf_matrix_race[1, 1]\n",
        "\n",
        "    FPR = FP / (FP + TN)\n",
        "    FNR = FN / (FN + TP)\n",
        "\n",
        "    print(f\"False Positive Rate for Race Group {race}: {FPR:.4f}\")\n",
        "    print(f\"False Negative Rate for Race Group {race}: {FNR:.4f}\")\n"
      ],
      "metadata": {
        "id": "XriFa-9QuWuH"
      },
      "execution_count": null,
      "outputs": []
    },
    {
      "cell_type": "code",
      "source": [
        "# Step 9: Calculating TPR, FPR, TNR, and FNR\n",
        "# True Positive, False Positive, True Negative, False Negative\n",
        "TP = conf_matrix[1, 1]\n",
        "FP = conf_matrix[0, 1]\n",
        "FN = conf_matrix[1, 0]\n",
        "TN = conf_matrix[0, 0]\n",
        "\n",
        "# Metrics\n",
        "TPR = TP / (TP + FN)  # Sensitivity or Recall\n",
        "FPR = FP / (FP + TN)  # False Positive Rate\n",
        "TNR = TN / (TN + FP)  # True Negative Rate\n",
        "FNR = FN / (FN + TP)  # False Negative Rate\n",
        "\n",
        "print(f\"True Positive Rate (TPR): {TPR:.4f}\")\n",
        "print(f\"False Positive Rate (FPR): {FPR:.4f}\")\n",
        "print(f\"True Negative Rate (TNR): {TNR:.4f}\")\n",
        "print(f\"False Negative Rate (FNR): {FNR:.4f}\")"
      ],
      "metadata": {
        "colab": {
          "base_uri": "https://localhost:8080/"
        },
        "id": "-qITHUbhCz0q",
        "outputId": "3cfc662e-dc37-4ed2-fc77-2269ad31b64f"
      },
      "execution_count": null,
      "outputs": [
        {
          "output_type": "stream",
          "name": "stdout",
          "text": [
            "True Positive Rate (TPR): 0.1966\n",
            "False Positive Rate (FPR): 0.0234\n",
            "True Negative Rate (TNR): 0.9766\n",
            "False Negative Rate (FNR): 0.8034\n"
          ]
        }
      ]
    },
    {
      "cell_type": "markdown",
      "source": [
        "## TPR, FPR, TNR and FNR\n",
        "\n",
        "- True Positive Rate (TPR): Measures the proportion of actual positives correctly identified. Here, TPR is low (0.1966), meaning the model struggles with sensitivity.\n",
        "\n",
        "- False Positive Rate (FPR): Important for social justice, as a high FPR could mean individuals are incorrectly labeled as likely recidivists, possibly leading to unjust consequences.\n",
        "\n",
        "- True Negative Rate (TNR) and False Negative Rate (FNR) further clarify the model’s effectiveness and potential biases. An FNR of 0.8034 suggests that the model frequently fails to identify actual recidivists, potentially a critical issue in preventing recidivism."
      ],
      "metadata": {
        "id": "90GXF07aWl9F"
      }
    },
    {
      "cell_type": "markdown",
      "source": [
        "###Now let's get the Baseline Model\n",
        "## Why?\n",
        "The baseline model provides a minimum standard. If our logistic regression model doesn’t outperform this baseline, it suggests that the logistic regression model might not be valuable.\n",
        "By comparing the logistic regression to the baseline model, we can determine if our model is genuinely effective or merely overfitting the data.\n"
      ],
      "metadata": {
        "id": "gVifFLWh8v4e"
      }
    },
    {
      "cell_type": "code",
      "source": [
        "from sklearn.dummy import DummyClassifier\n",
        "\n",
        "baseline_model = DummyClassifier(strategy=\"most_frequent\")\n",
        "\n",
        "# Fit the model to the training data\n",
        "baseline_model.fit(X_train, y_train)\n",
        "\n",
        "# Predict on the test data\n",
        "y_pred_baseline = baseline_model.predict(X_test)"
      ],
      "metadata": {
        "id": "EJcvN2Pz9Ivy"
      },
      "execution_count": null,
      "outputs": []
    },
    {
      "cell_type": "code",
      "source": [
        "# Step 4: Evaluate the Baseline Model\n",
        "# Confusion Matrix\n",
        "conf_matrix_baseline = confusion_matrix(y_test, y_pred_baseline)\n",
        "print(\"Baseline Confusion Matrix:\\n\", conf_matrix_baseline)\n",
        "\n",
        "# Accuracy\n",
        "baseline_accuracy = accuracy_score(y_test, y_pred_baseline)\n",
        "print(f\"Baseline Accuracy: {baseline_accuracy:.4f}\")\n",
        "\n",
        "# Classification Report\n",
        "print(\"Baseline Classification Report:\\n\", classification_report(y_test, y_pred_baseline))"
      ],
      "metadata": {
        "colab": {
          "base_uri": "https://localhost:8080/"
        },
        "id": "5Q0LLxfKEa9-",
        "outputId": "dff479f8-6af8-4251-813a-3af1be2cd9ec"
      },
      "execution_count": null,
      "outputs": [
        {
          "output_type": "stream",
          "name": "stdout",
          "text": [
            "Baseline Confusion Matrix:\n",
            " [[1496    0]\n",
            " [ 356    0]]\n",
            "Baseline Accuracy: 0.8078\n",
            "Baseline Classification Report:\n",
            "               precision    recall  f1-score   support\n",
            "\n",
            "           0       0.81      1.00      0.89      1496\n",
            "           1       0.00      0.00      0.00       356\n",
            "\n",
            "    accuracy                           0.81      1852\n",
            "   macro avg       0.40      0.50      0.45      1852\n",
            "weighted avg       0.65      0.81      0.72      1852\n",
            "\n"
          ]
        },
        {
          "output_type": "stream",
          "name": "stderr",
          "text": [
            "/usr/local/lib/python3.10/dist-packages/sklearn/metrics/_classification.py:1531: UndefinedMetricWarning: Precision is ill-defined and being set to 0.0 in labels with no predicted samples. Use `zero_division` parameter to control this behavior.\n",
            "  _warn_prf(average, modifier, f\"{metric.capitalize()} is\", len(result))\n",
            "/usr/local/lib/python3.10/dist-packages/sklearn/metrics/_classification.py:1531: UndefinedMetricWarning: Precision is ill-defined and being set to 0.0 in labels with no predicted samples. Use `zero_division` parameter to control this behavior.\n",
            "  _warn_prf(average, modifier, f\"{metric.capitalize()} is\", len(result))\n",
            "/usr/local/lib/python3.10/dist-packages/sklearn/metrics/_classification.py:1531: UndefinedMetricWarning: Precision is ill-defined and being set to 0.0 in labels with no predicted samples. Use `zero_division` parameter to control this behavior.\n",
            "  _warn_prf(average, modifier, f\"{metric.capitalize()} is\", len(result))\n"
          ]
        }
      ]
    },
    {
      "cell_type": "markdown",
      "source": [
        "- Comparing this baseline with the logistic regression model is crucial. If the logistic regression model doesn’t significantly improve upon this baseline, it might suggest an inherent issue with the data or the modeling approach, especially in detecting and addressing biases in predicting recidivism.\n",
        "\n",
        "**Question:** Given that the baseline model only predicts the majority class (non-recidivism), what does this tell us about the distribution of our data and potential biases?"
      ],
      "metadata": {
        "id": "54okLFhKXWuT"
      }
    },
    {
      "cell_type": "markdown",
      "source": [
        "---"
      ],
      "metadata": {
        "id": "t_fuljG-I5zM"
      }
    },
    {
      "cell_type": "markdown",
      "source": [
        "# CART model\n",
        "\n",
        " Def:\n",
        "\n",
        "CART, or Classification and Regression Trees, is a decision tree algorithm used for predictive modeling in machine learning. It’s popular because it is easy to interpret, visualize, and handle both classification (categorical outcomes) and regression (continuous outcomes) tasks.\n",
        "\n",
        "\n",
        "\n",
        "\n",
        "Steps:\n",
        "\n",
        "1. Data Preparation\n",
        "2. CART implementation\n",
        "3. Plotting the Decision Tree\n",
        "4. Prouning Method"
      ],
      "metadata": {
        "id": "g2wfw3RHIyJR"
      }
    },
    {
      "cell_type": "code",
      "source": [
        "# Import necessary libraries\n",
        "from sklearn.tree import DecisionTreeClassifier, plot_tree"
      ],
      "metadata": {
        "id": "1Tk55ZujMPxe"
      },
      "execution_count": null,
      "outputs": []
    },
    {
      "cell_type": "code",
      "source": [
        "# Step 1: Encoding Categorical Variables (Same as Logistic Regression)\n",
        "# Encoding 'sex' as 'gender_factor' (1 if female, else 0)\n",
        "recidivism_data['gender_factor'] = recidivism_data['sex'].apply(lambda x: 1 if x == 'Female' else 0)\n",
        "\n",
        "# Encoding 'age_cat' as 'age_factor' (1 if age is \"Greater than 45\", 2 if \"Less than 25\", else 0)\n",
        "recidivism_data['age_factor'] = recidivism_data['age_cat'].apply(lambda x: 1 if x == 'Greater than 45' else (2 if x == 'Less than 25' else 0))\n",
        "\n",
        "# Mapping race categories to numerical values\n",
        "race_map = {\n",
        "    'Caucasian': 0,\n",
        "    'African-American': 1,\n",
        "    'Asian': 2,\n",
        "    'Hispanic': 3,\n",
        "    'Native American': 4,\n",
        "    'Other': 5\n",
        "}\n",
        "recidivism_data['race_factor'] = recidivism_data['race'].map(race_map)\n",
        "\n",
        "# Encoding 'score_text' as 'score_factor' (1 if 'High' else 0)\n",
        "recidivism_data['score_factor'] = recidivism_data['score_text'].apply(lambda x: 1 if x == 'High' else 0)\n",
        "\n",
        "# Encoding 'c_charge_degree' as 'crime_factor' (1 if 'M' else 0)\n",
        "recidivism_data['crime_factor'] = recidivism_data['c_charge_degree'].apply(lambda x: 1 if x == 'M' else 0)\n",
        "\n",
        "# Step 2: Define Independent and Dependent Variables\n",
        "X = recidivism_data[['gender_factor', 'age_factor', 'race_factor', 'priors_count', 'crime_factor', 'two_year_recid']]\n",
        "y = recidivism_data['score_factor']"
      ],
      "metadata": {
        "id": "c5WdSdVqI3Wp"
      },
      "execution_count": null,
      "outputs": []
    },
    {
      "cell_type": "code",
      "source": [
        "# Step 2\n",
        "# Split the data into training and testing sets\n",
        "X_train, X_test, y_train, y_test = train_test_split(X, y, test_size=0.3, random_state=42, stratify=y)\n"
      ],
      "metadata": {
        "id": "KN3EvR45NytZ"
      },
      "execution_count": null,
      "outputs": []
    },
    {
      "cell_type": "code",
      "source": [
        "# Step 3.\n",
        "# CART Model Implementation\n",
        "# Setting up the Decision Tree Classifier\n",
        "dtc = DecisionTreeClassifier(min_samples_leaf=5, ccp_alpha=0.005, class_weight='balanced', random_state=42)\n",
        "\n",
        "# Train the model\n",
        "dtc.fit(X_train, y_train)"
      ],
      "metadata": {
        "colab": {
          "base_uri": "https://localhost:8080/",
          "height": 98
        },
        "id": "po12awTUN6Zq",
        "outputId": "b3d88ede-7c50-4e27-d95a-64174abd1162"
      },
      "execution_count": null,
      "outputs": [
        {
          "output_type": "execute_result",
          "data": {
            "text/plain": [
              "DecisionTreeClassifier(ccp_alpha=0.005, class_weight='balanced',\n",
              "                       min_samples_leaf=5, random_state=42)"
            ],
            "text/html": [
              "<style>#sk-container-id-1 {\n",
              "  /* Definition of color scheme common for light and dark mode */\n",
              "  --sklearn-color-text: black;\n",
              "  --sklearn-color-line: gray;\n",
              "  /* Definition of color scheme for unfitted estimators */\n",
              "  --sklearn-color-unfitted-level-0: #fff5e6;\n",
              "  --sklearn-color-unfitted-level-1: #f6e4d2;\n",
              "  --sklearn-color-unfitted-level-2: #ffe0b3;\n",
              "  --sklearn-color-unfitted-level-3: chocolate;\n",
              "  /* Definition of color scheme for fitted estimators */\n",
              "  --sklearn-color-fitted-level-0: #f0f8ff;\n",
              "  --sklearn-color-fitted-level-1: #d4ebff;\n",
              "  --sklearn-color-fitted-level-2: #b3dbfd;\n",
              "  --sklearn-color-fitted-level-3: cornflowerblue;\n",
              "\n",
              "  /* Specific color for light theme */\n",
              "  --sklearn-color-text-on-default-background: var(--sg-text-color, var(--theme-code-foreground, var(--jp-content-font-color1, black)));\n",
              "  --sklearn-color-background: var(--sg-background-color, var(--theme-background, var(--jp-layout-color0, white)));\n",
              "  --sklearn-color-border-box: var(--sg-text-color, var(--theme-code-foreground, var(--jp-content-font-color1, black)));\n",
              "  --sklearn-color-icon: #696969;\n",
              "\n",
              "  @media (prefers-color-scheme: dark) {\n",
              "    /* Redefinition of color scheme for dark theme */\n",
              "    --sklearn-color-text-on-default-background: var(--sg-text-color, var(--theme-code-foreground, var(--jp-content-font-color1, white)));\n",
              "    --sklearn-color-background: var(--sg-background-color, var(--theme-background, var(--jp-layout-color0, #111)));\n",
              "    --sklearn-color-border-box: var(--sg-text-color, var(--theme-code-foreground, var(--jp-content-font-color1, white)));\n",
              "    --sklearn-color-icon: #878787;\n",
              "  }\n",
              "}\n",
              "\n",
              "#sk-container-id-1 {\n",
              "  color: var(--sklearn-color-text);\n",
              "}\n",
              "\n",
              "#sk-container-id-1 pre {\n",
              "  padding: 0;\n",
              "}\n",
              "\n",
              "#sk-container-id-1 input.sk-hidden--visually {\n",
              "  border: 0;\n",
              "  clip: rect(1px 1px 1px 1px);\n",
              "  clip: rect(1px, 1px, 1px, 1px);\n",
              "  height: 1px;\n",
              "  margin: -1px;\n",
              "  overflow: hidden;\n",
              "  padding: 0;\n",
              "  position: absolute;\n",
              "  width: 1px;\n",
              "}\n",
              "\n",
              "#sk-container-id-1 div.sk-dashed-wrapped {\n",
              "  border: 1px dashed var(--sklearn-color-line);\n",
              "  margin: 0 0.4em 0.5em 0.4em;\n",
              "  box-sizing: border-box;\n",
              "  padding-bottom: 0.4em;\n",
              "  background-color: var(--sklearn-color-background);\n",
              "}\n",
              "\n",
              "#sk-container-id-1 div.sk-container {\n",
              "  /* jupyter's `normalize.less` sets `[hidden] { display: none; }`\n",
              "     but bootstrap.min.css set `[hidden] { display: none !important; }`\n",
              "     so we also need the `!important` here to be able to override the\n",
              "     default hidden behavior on the sphinx rendered scikit-learn.org.\n",
              "     See: https://github.com/scikit-learn/scikit-learn/issues/21755 */\n",
              "  display: inline-block !important;\n",
              "  position: relative;\n",
              "}\n",
              "\n",
              "#sk-container-id-1 div.sk-text-repr-fallback {\n",
              "  display: none;\n",
              "}\n",
              "\n",
              "div.sk-parallel-item,\n",
              "div.sk-serial,\n",
              "div.sk-item {\n",
              "  /* draw centered vertical line to link estimators */\n",
              "  background-image: linear-gradient(var(--sklearn-color-text-on-default-background), var(--sklearn-color-text-on-default-background));\n",
              "  background-size: 2px 100%;\n",
              "  background-repeat: no-repeat;\n",
              "  background-position: center center;\n",
              "}\n",
              "\n",
              "/* Parallel-specific style estimator block */\n",
              "\n",
              "#sk-container-id-1 div.sk-parallel-item::after {\n",
              "  content: \"\";\n",
              "  width: 100%;\n",
              "  border-bottom: 2px solid var(--sklearn-color-text-on-default-background);\n",
              "  flex-grow: 1;\n",
              "}\n",
              "\n",
              "#sk-container-id-1 div.sk-parallel {\n",
              "  display: flex;\n",
              "  align-items: stretch;\n",
              "  justify-content: center;\n",
              "  background-color: var(--sklearn-color-background);\n",
              "  position: relative;\n",
              "}\n",
              "\n",
              "#sk-container-id-1 div.sk-parallel-item {\n",
              "  display: flex;\n",
              "  flex-direction: column;\n",
              "}\n",
              "\n",
              "#sk-container-id-1 div.sk-parallel-item:first-child::after {\n",
              "  align-self: flex-end;\n",
              "  width: 50%;\n",
              "}\n",
              "\n",
              "#sk-container-id-1 div.sk-parallel-item:last-child::after {\n",
              "  align-self: flex-start;\n",
              "  width: 50%;\n",
              "}\n",
              "\n",
              "#sk-container-id-1 div.sk-parallel-item:only-child::after {\n",
              "  width: 0;\n",
              "}\n",
              "\n",
              "/* Serial-specific style estimator block */\n",
              "\n",
              "#sk-container-id-1 div.sk-serial {\n",
              "  display: flex;\n",
              "  flex-direction: column;\n",
              "  align-items: center;\n",
              "  background-color: var(--sklearn-color-background);\n",
              "  padding-right: 1em;\n",
              "  padding-left: 1em;\n",
              "}\n",
              "\n",
              "\n",
              "/* Toggleable style: style used for estimator/Pipeline/ColumnTransformer box that is\n",
              "clickable and can be expanded/collapsed.\n",
              "- Pipeline and ColumnTransformer use this feature and define the default style\n",
              "- Estimators will overwrite some part of the style using the `sk-estimator` class\n",
              "*/\n",
              "\n",
              "/* Pipeline and ColumnTransformer style (default) */\n",
              "\n",
              "#sk-container-id-1 div.sk-toggleable {\n",
              "  /* Default theme specific background. It is overwritten whether we have a\n",
              "  specific estimator or a Pipeline/ColumnTransformer */\n",
              "  background-color: var(--sklearn-color-background);\n",
              "}\n",
              "\n",
              "/* Toggleable label */\n",
              "#sk-container-id-1 label.sk-toggleable__label {\n",
              "  cursor: pointer;\n",
              "  display: block;\n",
              "  width: 100%;\n",
              "  margin-bottom: 0;\n",
              "  padding: 0.5em;\n",
              "  box-sizing: border-box;\n",
              "  text-align: center;\n",
              "}\n",
              "\n",
              "#sk-container-id-1 label.sk-toggleable__label-arrow:before {\n",
              "  /* Arrow on the left of the label */\n",
              "  content: \"▸\";\n",
              "  float: left;\n",
              "  margin-right: 0.25em;\n",
              "  color: var(--sklearn-color-icon);\n",
              "}\n",
              "\n",
              "#sk-container-id-1 label.sk-toggleable__label-arrow:hover:before {\n",
              "  color: var(--sklearn-color-text);\n",
              "}\n",
              "\n",
              "/* Toggleable content - dropdown */\n",
              "\n",
              "#sk-container-id-1 div.sk-toggleable__content {\n",
              "  max-height: 0;\n",
              "  max-width: 0;\n",
              "  overflow: hidden;\n",
              "  text-align: left;\n",
              "  /* unfitted */\n",
              "  background-color: var(--sklearn-color-unfitted-level-0);\n",
              "}\n",
              "\n",
              "#sk-container-id-1 div.sk-toggleable__content.fitted {\n",
              "  /* fitted */\n",
              "  background-color: var(--sklearn-color-fitted-level-0);\n",
              "}\n",
              "\n",
              "#sk-container-id-1 div.sk-toggleable__content pre {\n",
              "  margin: 0.2em;\n",
              "  border-radius: 0.25em;\n",
              "  color: var(--sklearn-color-text);\n",
              "  /* unfitted */\n",
              "  background-color: var(--sklearn-color-unfitted-level-0);\n",
              "}\n",
              "\n",
              "#sk-container-id-1 div.sk-toggleable__content.fitted pre {\n",
              "  /* unfitted */\n",
              "  background-color: var(--sklearn-color-fitted-level-0);\n",
              "}\n",
              "\n",
              "#sk-container-id-1 input.sk-toggleable__control:checked~div.sk-toggleable__content {\n",
              "  /* Expand drop-down */\n",
              "  max-height: 200px;\n",
              "  max-width: 100%;\n",
              "  overflow: auto;\n",
              "}\n",
              "\n",
              "#sk-container-id-1 input.sk-toggleable__control:checked~label.sk-toggleable__label-arrow:before {\n",
              "  content: \"▾\";\n",
              "}\n",
              "\n",
              "/* Pipeline/ColumnTransformer-specific style */\n",
              "\n",
              "#sk-container-id-1 div.sk-label input.sk-toggleable__control:checked~label.sk-toggleable__label {\n",
              "  color: var(--sklearn-color-text);\n",
              "  background-color: var(--sklearn-color-unfitted-level-2);\n",
              "}\n",
              "\n",
              "#sk-container-id-1 div.sk-label.fitted input.sk-toggleable__control:checked~label.sk-toggleable__label {\n",
              "  background-color: var(--sklearn-color-fitted-level-2);\n",
              "}\n",
              "\n",
              "/* Estimator-specific style */\n",
              "\n",
              "/* Colorize estimator box */\n",
              "#sk-container-id-1 div.sk-estimator input.sk-toggleable__control:checked~label.sk-toggleable__label {\n",
              "  /* unfitted */\n",
              "  background-color: var(--sklearn-color-unfitted-level-2);\n",
              "}\n",
              "\n",
              "#sk-container-id-1 div.sk-estimator.fitted input.sk-toggleable__control:checked~label.sk-toggleable__label {\n",
              "  /* fitted */\n",
              "  background-color: var(--sklearn-color-fitted-level-2);\n",
              "}\n",
              "\n",
              "#sk-container-id-1 div.sk-label label.sk-toggleable__label,\n",
              "#sk-container-id-1 div.sk-label label {\n",
              "  /* The background is the default theme color */\n",
              "  color: var(--sklearn-color-text-on-default-background);\n",
              "}\n",
              "\n",
              "/* On hover, darken the color of the background */\n",
              "#sk-container-id-1 div.sk-label:hover label.sk-toggleable__label {\n",
              "  color: var(--sklearn-color-text);\n",
              "  background-color: var(--sklearn-color-unfitted-level-2);\n",
              "}\n",
              "\n",
              "/* Label box, darken color on hover, fitted */\n",
              "#sk-container-id-1 div.sk-label.fitted:hover label.sk-toggleable__label.fitted {\n",
              "  color: var(--sklearn-color-text);\n",
              "  background-color: var(--sklearn-color-fitted-level-2);\n",
              "}\n",
              "\n",
              "/* Estimator label */\n",
              "\n",
              "#sk-container-id-1 div.sk-label label {\n",
              "  font-family: monospace;\n",
              "  font-weight: bold;\n",
              "  display: inline-block;\n",
              "  line-height: 1.2em;\n",
              "}\n",
              "\n",
              "#sk-container-id-1 div.sk-label-container {\n",
              "  text-align: center;\n",
              "}\n",
              "\n",
              "/* Estimator-specific */\n",
              "#sk-container-id-1 div.sk-estimator {\n",
              "  font-family: monospace;\n",
              "  border: 1px dotted var(--sklearn-color-border-box);\n",
              "  border-radius: 0.25em;\n",
              "  box-sizing: border-box;\n",
              "  margin-bottom: 0.5em;\n",
              "  /* unfitted */\n",
              "  background-color: var(--sklearn-color-unfitted-level-0);\n",
              "}\n",
              "\n",
              "#sk-container-id-1 div.sk-estimator.fitted {\n",
              "  /* fitted */\n",
              "  background-color: var(--sklearn-color-fitted-level-0);\n",
              "}\n",
              "\n",
              "/* on hover */\n",
              "#sk-container-id-1 div.sk-estimator:hover {\n",
              "  /* unfitted */\n",
              "  background-color: var(--sklearn-color-unfitted-level-2);\n",
              "}\n",
              "\n",
              "#sk-container-id-1 div.sk-estimator.fitted:hover {\n",
              "  /* fitted */\n",
              "  background-color: var(--sklearn-color-fitted-level-2);\n",
              "}\n",
              "\n",
              "/* Specification for estimator info (e.g. \"i\" and \"?\") */\n",
              "\n",
              "/* Common style for \"i\" and \"?\" */\n",
              "\n",
              ".sk-estimator-doc-link,\n",
              "a:link.sk-estimator-doc-link,\n",
              "a:visited.sk-estimator-doc-link {\n",
              "  float: right;\n",
              "  font-size: smaller;\n",
              "  line-height: 1em;\n",
              "  font-family: monospace;\n",
              "  background-color: var(--sklearn-color-background);\n",
              "  border-radius: 1em;\n",
              "  height: 1em;\n",
              "  width: 1em;\n",
              "  text-decoration: none !important;\n",
              "  margin-left: 1ex;\n",
              "  /* unfitted */\n",
              "  border: var(--sklearn-color-unfitted-level-1) 1pt solid;\n",
              "  color: var(--sklearn-color-unfitted-level-1);\n",
              "}\n",
              "\n",
              ".sk-estimator-doc-link.fitted,\n",
              "a:link.sk-estimator-doc-link.fitted,\n",
              "a:visited.sk-estimator-doc-link.fitted {\n",
              "  /* fitted */\n",
              "  border: var(--sklearn-color-fitted-level-1) 1pt solid;\n",
              "  color: var(--sklearn-color-fitted-level-1);\n",
              "}\n",
              "\n",
              "/* On hover */\n",
              "div.sk-estimator:hover .sk-estimator-doc-link:hover,\n",
              ".sk-estimator-doc-link:hover,\n",
              "div.sk-label-container:hover .sk-estimator-doc-link:hover,\n",
              ".sk-estimator-doc-link:hover {\n",
              "  /* unfitted */\n",
              "  background-color: var(--sklearn-color-unfitted-level-3);\n",
              "  color: var(--sklearn-color-background);\n",
              "  text-decoration: none;\n",
              "}\n",
              "\n",
              "div.sk-estimator.fitted:hover .sk-estimator-doc-link.fitted:hover,\n",
              ".sk-estimator-doc-link.fitted:hover,\n",
              "div.sk-label-container:hover .sk-estimator-doc-link.fitted:hover,\n",
              ".sk-estimator-doc-link.fitted:hover {\n",
              "  /* fitted */\n",
              "  background-color: var(--sklearn-color-fitted-level-3);\n",
              "  color: var(--sklearn-color-background);\n",
              "  text-decoration: none;\n",
              "}\n",
              "\n",
              "/* Span, style for the box shown on hovering the info icon */\n",
              ".sk-estimator-doc-link span {\n",
              "  display: none;\n",
              "  z-index: 9999;\n",
              "  position: relative;\n",
              "  font-weight: normal;\n",
              "  right: .2ex;\n",
              "  padding: .5ex;\n",
              "  margin: .5ex;\n",
              "  width: min-content;\n",
              "  min-width: 20ex;\n",
              "  max-width: 50ex;\n",
              "  color: var(--sklearn-color-text);\n",
              "  box-shadow: 2pt 2pt 4pt #999;\n",
              "  /* unfitted */\n",
              "  background: var(--sklearn-color-unfitted-level-0);\n",
              "  border: .5pt solid var(--sklearn-color-unfitted-level-3);\n",
              "}\n",
              "\n",
              ".sk-estimator-doc-link.fitted span {\n",
              "  /* fitted */\n",
              "  background: var(--sklearn-color-fitted-level-0);\n",
              "  border: var(--sklearn-color-fitted-level-3);\n",
              "}\n",
              "\n",
              ".sk-estimator-doc-link:hover span {\n",
              "  display: block;\n",
              "}\n",
              "\n",
              "/* \"?\"-specific style due to the `<a>` HTML tag */\n",
              "\n",
              "#sk-container-id-1 a.estimator_doc_link {\n",
              "  float: right;\n",
              "  font-size: 1rem;\n",
              "  line-height: 1em;\n",
              "  font-family: monospace;\n",
              "  background-color: var(--sklearn-color-background);\n",
              "  border-radius: 1rem;\n",
              "  height: 1rem;\n",
              "  width: 1rem;\n",
              "  text-decoration: none;\n",
              "  /* unfitted */\n",
              "  color: var(--sklearn-color-unfitted-level-1);\n",
              "  border: var(--sklearn-color-unfitted-level-1) 1pt solid;\n",
              "}\n",
              "\n",
              "#sk-container-id-1 a.estimator_doc_link.fitted {\n",
              "  /* fitted */\n",
              "  border: var(--sklearn-color-fitted-level-1) 1pt solid;\n",
              "  color: var(--sklearn-color-fitted-level-1);\n",
              "}\n",
              "\n",
              "/* On hover */\n",
              "#sk-container-id-1 a.estimator_doc_link:hover {\n",
              "  /* unfitted */\n",
              "  background-color: var(--sklearn-color-unfitted-level-3);\n",
              "  color: var(--sklearn-color-background);\n",
              "  text-decoration: none;\n",
              "}\n",
              "\n",
              "#sk-container-id-1 a.estimator_doc_link.fitted:hover {\n",
              "  /* fitted */\n",
              "  background-color: var(--sklearn-color-fitted-level-3);\n",
              "}\n",
              "</style><div id=\"sk-container-id-1\" class=\"sk-top-container\"><div class=\"sk-text-repr-fallback\"><pre>DecisionTreeClassifier(ccp_alpha=0.005, class_weight=&#x27;balanced&#x27;,\n",
              "                       min_samples_leaf=5, random_state=42)</pre><b>In a Jupyter environment, please rerun this cell to show the HTML representation or trust the notebook. <br />On GitHub, the HTML representation is unable to render, please try loading this page with nbviewer.org.</b></div><div class=\"sk-container\" hidden><div class=\"sk-item\"><div class=\"sk-estimator fitted sk-toggleable\"><input class=\"sk-toggleable__control sk-hidden--visually\" id=\"sk-estimator-id-1\" type=\"checkbox\" checked><label for=\"sk-estimator-id-1\" class=\"sk-toggleable__label fitted sk-toggleable__label-arrow fitted\">&nbsp;&nbsp;DecisionTreeClassifier<a class=\"sk-estimator-doc-link fitted\" rel=\"noreferrer\" target=\"_blank\" href=\"https://scikit-learn.org/1.5/modules/generated/sklearn.tree.DecisionTreeClassifier.html\">?<span>Documentation for DecisionTreeClassifier</span></a><span class=\"sk-estimator-doc-link fitted\">i<span>Fitted</span></span></label><div class=\"sk-toggleable__content fitted\"><pre>DecisionTreeClassifier(ccp_alpha=0.005, class_weight=&#x27;balanced&#x27;,\n",
              "                       min_samples_leaf=5, random_state=42)</pre></div> </div></div></div></div>"
            ]
          },
          "metadata": {},
          "execution_count": 12
        }
      ]
    },
    {
      "cell_type": "code",
      "source": [
        "# Step 4.\n",
        "# Model Visualization\n",
        "\n",
        "# Plotting the Decision Tree\n",
        "plt.figure(figsize=(15, 10))\n",
        "plot_tree(dtc, feature_names=X_train.columns, class_names=['No Recidivism', 'Recidivism'], filled=True, rounded=True, fontsize=10)\n",
        "plt.show()"
      ],
      "metadata": {
        "colab": {
          "base_uri": "https://localhost:8080/",
          "height": 807
        },
        "id": "RpIyvguNN7GE",
        "outputId": "4a1a30ea-6a82-46e2-e5a1-5b36e667377d"
      },
      "execution_count": null,
      "outputs": [
        {
          "output_type": "display_data",
          "data": {
            "text/plain": [
              "<Figure size 1500x1000 with 1 Axes>"
            ],
            "image/png": "[encoded data removed]"
          },
          "metadata": {}
        }
      ]
    },
    {
      "cell_type": "markdown",
      "source": [
        "## This is your Decision Tree:\n",
        "### Here are some tips of how to interpretate it\n",
        "\n",
        "Root Node (Top Split):\n",
        "\n",
        "  - The root node splits based on priors_count (the number of prior offenses), with a threshold of 3.5. This suggests that prior offenses are considered highly predictive of recidivism.\n",
        "    - If priors_count <= 3.5, the model leans toward predicting \"No Recidivism.\"\n",
        "    - If priors_count > 3.5, the model leans toward \"Recidivism.\"\n",
        "\n",
        "Subsequent Splits:\n",
        "\n",
        "  - For individuals with priors_count <= 3.5, the tree next considers age_factor, splitting at 1.5, which could represent age groups or a calculated age category. Younger individuals (or those with a lower age factor) appear less likely to reoffend in this branch.\n",
        "  - For individuals with more than 3.5 priors, additional splits look at higher priors_count values and age_factor to refine the prediction.\n",
        "\n",
        "Leaf Nodes:\n",
        "\n",
        "  - The final nodes (leaves) indicate the class prediction (Recidivism or No Recidivism), Gini index (a measure of impurity), sample size, and distribution across the classes.\n",
        "  - For example, if priors_count > 3.5 and age_factor > 1.5, the model predicts \"Recidivism\" with relatively high certainty.\n"
      ],
      "metadata": {
        "id": "cD3ZYao0O-pw"
      }
    },
    {
      "cell_type": "code",
      "source": [
        "### 5. Model Evaluation\n",
        "\n",
        "# Making predictions\n",
        "y_pred = dtc.predict(X_test)"
      ],
      "metadata": {
        "id": "cS8EhJhyQ2GZ"
      },
      "execution_count": null,
      "outputs": []
    },
    {
      "cell_type": "code",
      "source": [
        "# Confusion Matrix\n",
        "conf_matrix = confusion_matrix(y_test, y_pred)\n",
        "print(\"Confusion Matrix:\\n\", conf_matrix)\n",
        "\n",
        "# Accuracy\n",
        "accuracy = accuracy_score(y_test, y_pred)\n",
        "print(f\"Accuracy: {accuracy:.4f}\")\n",
        "\n",
        "# Classification Report\n",
        "print(\"Classification Report:\\n\", classification_report(y_test, y_pred))"
      ],
      "metadata": {
        "colab": {
          "base_uri": "https://localhost:8080/"
        },
        "id": "z0lSZ1iLQ2Qq",
        "outputId": "2516a5fe-23ec-4373-df88-80ea5d0923f1"
      },
      "execution_count": null,
      "outputs": [
        {
          "output_type": "stream",
          "name": "stdout",
          "text": [
            "Confusion Matrix:\n",
            " [[945 564]\n",
            " [ 65 278]]\n",
            "Accuracy: 0.6604\n",
            "Classification Report:\n",
            "               precision    recall  f1-score   support\n",
            "\n",
            "           0       0.94      0.63      0.75      1509\n",
            "           1       0.33      0.81      0.47       343\n",
            "\n",
            "    accuracy                           0.66      1852\n",
            "   macro avg       0.63      0.72      0.61      1852\n",
            "weighted avg       0.82      0.66      0.70      1852\n",
            "\n"
          ]
        }
      ]
    },
    {
      "cell_type": "markdown",
      "source": [
        "## Classification Report\n",
        "The classification report reveals:\n",
        "\n",
        "   - Precision for predicting recidivism (Class 1) is 0.33, meaning that only 33% of individuals predicted as recidivists were actually recidivists.\n",
        "\n",
        "   - Recall for recidivism (Class 1) is 0.81, indicating that the model successfully identifies 81% of actual recidivists.\n",
        "\n",
        "- Implications: High recall with low precision suggests that the model is biased towards over-predicting recidivism, which can lead to unfair treatment of individuals who are unlikely to re-offend but are nevertheless classified as high-risk."
      ],
      "metadata": {
        "id": "ZkMr7as1c5WI"
      }
    },
    {
      "cell_type": "code",
      "source": [
        "### 6. Bias Analysis\n",
        "# Feature Importance\n",
        "feature_importance = pd.Series(dtc.feature_importances_, index=X_train.columns).sort_values(ascending=False)\n",
        "print(\"Feature Importances:\\n\", feature_importance)"
      ],
      "metadata": {
        "colab": {
          "base_uri": "https://localhost:8080/"
        },
        "id": "EW0DG5mRRCOe",
        "outputId": "73706c9a-822b-49c8-8295-99447b44223e"
      },
      "execution_count": null,
      "outputs": [
        {
          "output_type": "stream",
          "name": "stdout",
          "text": [
            "Feature Importances:\n",
            " priors_count      0.561594\n",
            "age_factor        0.395926\n",
            "two_year_recid    0.042480\n",
            "gender_factor     0.000000\n",
            "race_factor       0.000000\n",
            "crime_factor      0.000000\n",
            "dtype: float64\n"
          ]
        }
      ]
    },
    {
      "cell_type": "markdown",
      "source": [
        "## Bias Analysis - Feature Importance\n",
        "Feature Importances: The most significant features are:\n",
        "   - Priors Count: 0.5616\n",
        "   - Age Factor: 0.3959\n",
        "   - Two-Year Recidivism: 0.0425\n",
        "\n",
        "- Other Features: Gender and race factors have zero importance in this decision tree, implying that these features were not used for splits in this model. While this might initially seem positive from a bias standpoint, it could also mean that other correlated variables are indirectly carrying demographic information, which can still lead to biased predictions.\n",
        "\n",
        "- A more social justice perspective: Heavy reliance on prior counts and age could reinforce existing biases. For example, if individuals from marginalized communities have historically higher prior counts due to systemic biases, the model may be implicitly biased against them, even if race or gender were not directly used as features."
      ],
      "metadata": {
        "id": "0Wn9qDmecG75"
      }
    },
    {
      "cell_type": "code",
      "source": [
        "# Adjusting the Decision Threshold to 0.4\n",
        "y_prob = dtc.predict_proba(X_test)[:, 1]\n",
        "y_pred_adjusted = (y_prob > 0.4).astype(int)\n",
        "\n",
        "# Confusion Matrix with Adjusted Threshold\n",
        "conf_matrix_adjusted = confusion_matrix(y_test, y_pred_adjusted)\n",
        "accuracy_adjusted = accuracy_score(y_test, y_pred_adjusted)\n",
        "\n",
        "print(\"Adjusted Confusion Matrix:\\n\", conf_matrix_adjusted)\n",
        "print(f\"Adjusted Accuracy: {accuracy_adjusted:.4f}\")"
      ],
      "metadata": {
        "colab": {
          "base_uri": "https://localhost:8080/"
        },
        "id": "1Q2W_vzVRCXJ",
        "outputId": "0a0768d3-959c-4260-bb23-77a5faf9b58c"
      },
      "execution_count": null,
      "outputs": [
        {
          "output_type": "stream",
          "name": "stdout",
          "text": [
            "Adjusted Confusion Matrix:\n",
            " [[945 564]\n",
            " [ 65 278]]\n",
            "Adjusted Accuracy: 0.6604\n"
          ]
        }
      ]
    },
    {
      "cell_type": "code",
      "source": [
        "# Calculating TPR, FPR, TNR, and FNR\n",
        "TP = conf_matrix[1, 1]\n",
        "FP = conf_matrix[0, 1]\n",
        "FN = conf_matrix[1, 0]\n",
        "TN = conf_matrix[0, 0]\n",
        "\n",
        "TPR = TP / (TP + FN)  # Sensitivity or Recall\n",
        "FPR = FP / (FP + TN)  # False Positive Rate\n",
        "TNR = TN / (TN + FP)  # Specificity\n",
        "FNR = FN / (FN + TP)  # False Negative Rate\n",
        "\n",
        "print(f\"True Positive Rate (TPR): {TPR:.4f}\")\n",
        "print(f\"False Positive Rate (FPR): {FPR:.4f}\")\n",
        "print(f\"True Negative Rate (TNR): {TNR:.4f}\")\n",
        "print(f\"False Negative Rate (FNR): {FNR:.4f}\")"
      ],
      "metadata": {
        "colab": {
          "base_uri": "https://localhost:8080/"
        },
        "id": "9hFKsQFMRTnv",
        "outputId": "2000f509-c03d-4ef0-bb8a-73bee59e53d5"
      },
      "execution_count": null,
      "outputs": [
        {
          "output_type": "stream",
          "name": "stdout",
          "text": [
            "True Positive Rate (TPR): 0.8105\n",
            "False Positive Rate (FPR): 0.3738\n",
            "True Negative Rate (TNR): 0.6262\n",
            "False Negative Rate (FNR): 0.1895\n"
          ]
        }
      ]
    },
    {
      "cell_type": "markdown",
      "source": [
        "> The decision tree model shows decent sensitivity in identifying recidivists, but it suffers from high false positive rates, which can lead to unfair labeling. The reliance on features like priors count and age, while ignoring direct demographic information, suggests potential indirect bias, as systemic issues may have influenced these predictors"
      ],
      "metadata": {
        "id": "LZeIV6FrcnU5"
      }
    },
    {
      "cell_type": "markdown",
      "source": [
        "## Can we do something else to help improve our decision treee performance?\n",
        "\n",
        "> YES! We can apply the pruning method to our decision tree. Pruning is a commonly used technique in decision tree modeling that helps improve the model’s performance by simplifying the tree, which in turn can reduce overfitting.\n",
        "\n",
        "### Why?\n",
        "\n",
        "1. Reduce Overfitting\n",
        "\n",
        "2. Improve Interpretability\n",
        "\n",
        "3. Efficiency\n",
        "\n",
        "### How to apply it?\n",
        "\n",
        "- In Python, with sklearn, we can apply pruning by tuning the ccp_alpha (Cost Complexity Pruning) parameter of DecisionTreeClassifier. Increasing ccp_alpha will prune the tree by removing nodes that contribute less to reducing the overall error. A larger value for ccp_alpha results in a shallower tree."
      ],
      "metadata": {
        "id": "1k6yD8rPR3t2"
      }
    },
    {
      "cell_type": "code",
      "source": [
        "# Define the Decision Tree with pruning parameter\n",
        "dtc = DecisionTreeClassifier(min_samples_leaf=5, ccp_alpha=0.005, random_state=88)\n",
        "dtc.fit(X_train, y_train)"
      ],
      "metadata": {
        "colab": {
          "base_uri": "https://localhost:8080/",
          "height": 80
        },
        "id": "JcD84kziSZlg",
        "outputId": "a5102a7a-f9e8-418f-ebaf-d72ee4b6a5fe"
      },
      "execution_count": null,
      "outputs": [
        {
          "output_type": "execute_result",
          "data": {
            "text/plain": [
              "DecisionTreeClassifier(ccp_alpha=0.005, min_samples_leaf=5, random_state=88)"
            ],
            "text/html": [
              "<style>#sk-container-id-2 {\n",
              "  /* Definition of color scheme common for light and dark mode */\n",
              "  --sklearn-color-text: black;\n",
              "  --sklearn-color-line: gray;\n",
              "  /* Definition of color scheme for unfitted estimators */\n",
              "  --sklearn-color-unfitted-level-0: #fff5e6;\n",
              "  --sklearn-color-unfitted-level-1: #f6e4d2;\n",
              "  --sklearn-color-unfitted-level-2: #ffe0b3;\n",
              "  --sklearn-color-unfitted-level-3: chocolate;\n",
              "  /* Definition of color scheme for fitted estimators */\n",
              "  --sklearn-color-fitted-level-0: #f0f8ff;\n",
              "  --sklearn-color-fitted-level-1: #d4ebff;\n",
              "  --sklearn-color-fitted-level-2: #b3dbfd;\n",
              "  --sklearn-color-fitted-level-3: cornflowerblue;\n",
              "\n",
              "  /* Specific color for light theme */\n",
              "  --sklearn-color-text-on-default-background: var(--sg-text-color, var(--theme-code-foreground, var(--jp-content-font-color1, black)));\n",
              "  --sklearn-color-background: var(--sg-background-color, var(--theme-background, var(--jp-layout-color0, white)));\n",
              "  --sklearn-color-border-box: var(--sg-text-color, var(--theme-code-foreground, var(--jp-content-font-color1, black)));\n",
              "  --sklearn-color-icon: #696969;\n",
              "\n",
              "  @media (prefers-color-scheme: dark) {\n",
              "    /* Redefinition of color scheme for dark theme */\n",
              "    --sklearn-color-text-on-default-background: var(--sg-text-color, var(--theme-code-foreground, var(--jp-content-font-color1, white)));\n",
              "    --sklearn-color-background: var(--sg-background-color, var(--theme-background, var(--jp-layout-color0, #111)));\n",
              "    --sklearn-color-border-box: var(--sg-text-color, var(--theme-code-foreground, var(--jp-content-font-color1, white)));\n",
              "    --sklearn-color-icon: #878787;\n",
              "  }\n",
              "}\n",
              "\n",
              "#sk-container-id-2 {\n",
              "  color: var(--sklearn-color-text);\n",
              "}\n",
              "\n",
              "#sk-container-id-2 pre {\n",
              "  padding: 0;\n",
              "}\n",
              "\n",
              "#sk-container-id-2 input.sk-hidden--visually {\n",
              "  border: 0;\n",
              "  clip: rect(1px 1px 1px 1px);\n",
              "  clip: rect(1px, 1px, 1px, 1px);\n",
              "  height: 1px;\n",
              "  margin: -1px;\n",
              "  overflow: hidden;\n",
              "  padding: 0;\n",
              "  position: absolute;\n",
              "  width: 1px;\n",
              "}\n",
              "\n",
              "#sk-container-id-2 div.sk-dashed-wrapped {\n",
              "  border: 1px dashed var(--sklearn-color-line);\n",
              "  margin: 0 0.4em 0.5em 0.4em;\n",
              "  box-sizing: border-box;\n",
              "  padding-bottom: 0.4em;\n",
              "  background-color: var(--sklearn-color-background);\n",
              "}\n",
              "\n",
              "#sk-container-id-2 div.sk-container {\n",
              "  /* jupyter's `normalize.less` sets `[hidden] { display: none; }`\n",
              "     but bootstrap.min.css set `[hidden] { display: none !important; }`\n",
              "     so we also need the `!important` here to be able to override the\n",
              "     default hidden behavior on the sphinx rendered scikit-learn.org.\n",
              "     See: https://github.com/scikit-learn/scikit-learn/issues/21755 */\n",
              "  display: inline-block !important;\n",
              "  position: relative;\n",
              "}\n",
              "\n",
              "#sk-container-id-2 div.sk-text-repr-fallback {\n",
              "  display: none;\n",
              "}\n",
              "\n",
              "div.sk-parallel-item,\n",
              "div.sk-serial,\n",
              "div.sk-item {\n",
              "  /* draw centered vertical line to link estimators */\n",
              "  background-image: linear-gradient(var(--sklearn-color-text-on-default-background), var(--sklearn-color-text-on-default-background));\n",
              "  background-size: 2px 100%;\n",
              "  background-repeat: no-repeat;\n",
              "  background-position: center center;\n",
              "}\n",
              "\n",
              "/* Parallel-specific style estimator block */\n",
              "\n",
              "#sk-container-id-2 div.sk-parallel-item::after {\n",
              "  content: \"\";\n",
              "  width: 100%;\n",
              "  border-bottom: 2px solid var(--sklearn-color-text-on-default-background);\n",
              "  flex-grow: 1;\n",
              "}\n",
              "\n",
              "#sk-container-id-2 div.sk-parallel {\n",
              "  display: flex;\n",
              "  align-items: stretch;\n",
              "  justify-content: center;\n",
              "  background-color: var(--sklearn-color-background);\n",
              "  position: relative;\n",
              "}\n",
              "\n",
              "#sk-container-id-2 div.sk-parallel-item {\n",
              "  display: flex;\n",
              "  flex-direction: column;\n",
              "}\n",
              "\n",
              "#sk-container-id-2 div.sk-parallel-item:first-child::after {\n",
              "  align-self: flex-end;\n",
              "  width: 50%;\n",
              "}\n",
              "\n",
              "#sk-container-id-2 div.sk-parallel-item:last-child::after {\n",
              "  align-self: flex-start;\n",
              "  width: 50%;\n",
              "}\n",
              "\n",
              "#sk-container-id-2 div.sk-parallel-item:only-child::after {\n",
              "  width: 0;\n",
              "}\n",
              "\n",
              "/* Serial-specific style estimator block */\n",
              "\n",
              "#sk-container-id-2 div.sk-serial {\n",
              "  display: flex;\n",
              "  flex-direction: column;\n",
              "  align-items: center;\n",
              "  background-color: var(--sklearn-color-background);\n",
              "  padding-right: 1em;\n",
              "  padding-left: 1em;\n",
              "}\n",
              "\n",
              "\n",
              "/* Toggleable style: style used for estimator/Pipeline/ColumnTransformer box that is\n",
              "clickable and can be expanded/collapsed.\n",
              "- Pipeline and ColumnTransformer use this feature and define the default style\n",
              "- Estimators will overwrite some part of the style using the `sk-estimator` class\n",
              "*/\n",
              "\n",
              "/* Pipeline and ColumnTransformer style (default) */\n",
              "\n",
              "#sk-container-id-2 div.sk-toggleable {\n",
              "  /* Default theme specific background. It is overwritten whether we have a\n",
              "  specific estimator or a Pipeline/ColumnTransformer */\n",
              "  background-color: var(--sklearn-color-background);\n",
              "}\n",
              "\n",
              "/* Toggleable label */\n",
              "#sk-container-id-2 label.sk-toggleable__label {\n",
              "  cursor: pointer;\n",
              "  display: block;\n",
              "  width: 100%;\n",
              "  margin-bottom: 0;\n",
              "  padding: 0.5em;\n",
              "  box-sizing: border-box;\n",
              "  text-align: center;\n",
              "}\n",
              "\n",
              "#sk-container-id-2 label.sk-toggleable__label-arrow:before {\n",
              "  /* Arrow on the left of the label */\n",
              "  content: \"▸\";\n",
              "  float: left;\n",
              "  margin-right: 0.25em;\n",
              "  color: var(--sklearn-color-icon);\n",
              "}\n",
              "\n",
              "#sk-container-id-2 label.sk-toggleable__label-arrow:hover:before {\n",
              "  color: var(--sklearn-color-text);\n",
              "}\n",
              "\n",
              "/* Toggleable content - dropdown */\n",
              "\n",
              "#sk-container-id-2 div.sk-toggleable__content {\n",
              "  max-height: 0;\n",
              "  max-width: 0;\n",
              "  overflow: hidden;\n",
              "  text-align: left;\n",
              "  /* unfitted */\n",
              "  background-color: var(--sklearn-color-unfitted-level-0);\n",
              "}\n",
              "\n",
              "#sk-container-id-2 div.sk-toggleable__content.fitted {\n",
              "  /* fitted */\n",
              "  background-color: var(--sklearn-color-fitted-level-0);\n",
              "}\n",
              "\n",
              "#sk-container-id-2 div.sk-toggleable__content pre {\n",
              "  margin: 0.2em;\n",
              "  border-radius: 0.25em;\n",
              "  color: var(--sklearn-color-text);\n",
              "  /* unfitted */\n",
              "  background-color: var(--sklearn-color-unfitted-level-0);\n",
              "}\n",
              "\n",
              "#sk-container-id-2 div.sk-toggleable__content.fitted pre {\n",
              "  /* unfitted */\n",
              "  background-color: var(--sklearn-color-fitted-level-0);\n",
              "}\n",
              "\n",
              "#sk-container-id-2 input.sk-toggleable__control:checked~div.sk-toggleable__content {\n",
              "  /* Expand drop-down */\n",
              "  max-height: 200px;\n",
              "  max-width: 100%;\n",
              "  overflow: auto;\n",
              "}\n",
              "\n",
              "#sk-container-id-2 input.sk-toggleable__control:checked~label.sk-toggleable__label-arrow:before {\n",
              "  content: \"▾\";\n",
              "}\n",
              "\n",
              "/* Pipeline/ColumnTransformer-specific style */\n",
              "\n",
              "#sk-container-id-2 div.sk-label input.sk-toggleable__control:checked~label.sk-toggleable__label {\n",
              "  color: var(--sklearn-color-text);\n",
              "  background-color: var(--sklearn-color-unfitted-level-2);\n",
              "}\n",
              "\n",
              "#sk-container-id-2 div.sk-label.fitted input.sk-toggleable__control:checked~label.sk-toggleable__label {\n",
              "  background-color: var(--sklearn-color-fitted-level-2);\n",
              "}\n",
              "\n",
              "/* Estimator-specific style */\n",
              "\n",
              "/* Colorize estimator box */\n",
              "#sk-container-id-2 div.sk-estimator input.sk-toggleable__control:checked~label.sk-toggleable__label {\n",
              "  /* unfitted */\n",
              "  background-color: var(--sklearn-color-unfitted-level-2);\n",
              "}\n",
              "\n",
              "#sk-container-id-2 div.sk-estimator.fitted input.sk-toggleable__control:checked~label.sk-toggleable__label {\n",
              "  /* fitted */\n",
              "  background-color: var(--sklearn-color-fitted-level-2);\n",
              "}\n",
              "\n",
              "#sk-container-id-2 div.sk-label label.sk-toggleable__label,\n",
              "#sk-container-id-2 div.sk-label label {\n",
              "  /* The background is the default theme color */\n",
              "  color: var(--sklearn-color-text-on-default-background);\n",
              "}\n",
              "\n",
              "/* On hover, darken the color of the background */\n",
              "#sk-container-id-2 div.sk-label:hover label.sk-toggleable__label {\n",
              "  color: var(--sklearn-color-text);\n",
              "  background-color: var(--sklearn-color-unfitted-level-2);\n",
              "}\n",
              "\n",
              "/* Label box, darken color on hover, fitted */\n",
              "#sk-container-id-2 div.sk-label.fitted:hover label.sk-toggleable__label.fitted {\n",
              "  color: var(--sklearn-color-text);\n",
              "  background-color: var(--sklearn-color-fitted-level-2);\n",
              "}\n",
              "\n",
              "/* Estimator label */\n",
              "\n",
              "#sk-container-id-2 div.sk-label label {\n",
              "  font-family: monospace;\n",
              "  font-weight: bold;\n",
              "  display: inline-block;\n",
              "  line-height: 1.2em;\n",
              "}\n",
              "\n",
              "#sk-container-id-2 div.sk-label-container {\n",
              "  text-align: center;\n",
              "}\n",
              "\n",
              "/* Estimator-specific */\n",
              "#sk-container-id-2 div.sk-estimator {\n",
              "  font-family: monospace;\n",
              "  border: 1px dotted var(--sklearn-color-border-box);\n",
              "  border-radius: 0.25em;\n",
              "  box-sizing: border-box;\n",
              "  margin-bottom: 0.5em;\n",
              "  /* unfitted */\n",
              "  background-color: var(--sklearn-color-unfitted-level-0);\n",
              "}\n",
              "\n",
              "#sk-container-id-2 div.sk-estimator.fitted {\n",
              "  /* fitted */\n",
              "  background-color: var(--sklearn-color-fitted-level-0);\n",
              "}\n",
              "\n",
              "/* on hover */\n",
              "#sk-container-id-2 div.sk-estimator:hover {\n",
              "  /* unfitted */\n",
              "  background-color: var(--sklearn-color-unfitted-level-2);\n",
              "}\n",
              "\n",
              "#sk-container-id-2 div.sk-estimator.fitted:hover {\n",
              "  /* fitted */\n",
              "  background-color: var(--sklearn-color-fitted-level-2);\n",
              "}\n",
              "\n",
              "/* Specification for estimator info (e.g. \"i\" and \"?\") */\n",
              "\n",
              "/* Common style for \"i\" and \"?\" */\n",
              "\n",
              ".sk-estimator-doc-link,\n",
              "a:link.sk-estimator-doc-link,\n",
              "a:visited.sk-estimator-doc-link {\n",
              "  float: right;\n",
              "  font-size: smaller;\n",
              "  line-height: 1em;\n",
              "  font-family: monospace;\n",
              "  background-color: var(--sklearn-color-background);\n",
              "  border-radius: 1em;\n",
              "  height: 1em;\n",
              "  width: 1em;\n",
              "  text-decoration: none !important;\n",
              "  margin-left: 1ex;\n",
              "  /* unfitted */\n",
              "  border: var(--sklearn-color-unfitted-level-1) 1pt solid;\n",
              "  color: var(--sklearn-color-unfitted-level-1);\n",
              "}\n",
              "\n",
              ".sk-estimator-doc-link.fitted,\n",
              "a:link.sk-estimator-doc-link.fitted,\n",
              "a:visited.sk-estimator-doc-link.fitted {\n",
              "  /* fitted */\n",
              "  border: var(--sklearn-color-fitted-level-1) 1pt solid;\n",
              "  color: var(--sklearn-color-fitted-level-1);\n",
              "}\n",
              "\n",
              "/* On hover */\n",
              "div.sk-estimator:hover .sk-estimator-doc-link:hover,\n",
              ".sk-estimator-doc-link:hover,\n",
              "div.sk-label-container:hover .sk-estimator-doc-link:hover,\n",
              ".sk-estimator-doc-link:hover {\n",
              "  /* unfitted */\n",
              "  background-color: var(--sklearn-color-unfitted-level-3);\n",
              "  color: var(--sklearn-color-background);\n",
              "  text-decoration: none;\n",
              "}\n",
              "\n",
              "div.sk-estimator.fitted:hover .sk-estimator-doc-link.fitted:hover,\n",
              ".sk-estimator-doc-link.fitted:hover,\n",
              "div.sk-label-container:hover .sk-estimator-doc-link.fitted:hover,\n",
              ".sk-estimator-doc-link.fitted:hover {\n",
              "  /* fitted */\n",
              "  background-color: var(--sklearn-color-fitted-level-3);\n",
              "  color: var(--sklearn-color-background);\n",
              "  text-decoration: none;\n",
              "}\n",
              "\n",
              "/* Span, style for the box shown on hovering the info icon */\n",
              ".sk-estimator-doc-link span {\n",
              "  display: none;\n",
              "  z-index: 9999;\n",
              "  position: relative;\n",
              "  font-weight: normal;\n",
              "  right: .2ex;\n",
              "  padding: .5ex;\n",
              "  margin: .5ex;\n",
              "  width: min-content;\n",
              "  min-width: 20ex;\n",
              "  max-width: 50ex;\n",
              "  color: var(--sklearn-color-text);\n",
              "  box-shadow: 2pt 2pt 4pt #999;\n",
              "  /* unfitted */\n",
              "  background: var(--sklearn-color-unfitted-level-0);\n",
              "  border: .5pt solid var(--sklearn-color-unfitted-level-3);\n",
              "}\n",
              "\n",
              ".sk-estimator-doc-link.fitted span {\n",
              "  /* fitted */\n",
              "  background: var(--sklearn-color-fitted-level-0);\n",
              "  border: var(--sklearn-color-fitted-level-3);\n",
              "}\n",
              "\n",
              ".sk-estimator-doc-link:hover span {\n",
              "  display: block;\n",
              "}\n",
              "\n",
              "/* \"?\"-specific style due to the `<a>` HTML tag */\n",
              "\n",
              "#sk-container-id-2 a.estimator_doc_link {\n",
              "  float: right;\n",
              "  font-size: 1rem;\n",
              "  line-height: 1em;\n",
              "  font-family: monospace;\n",
              "  background-color: var(--sklearn-color-background);\n",
              "  border-radius: 1rem;\n",
              "  height: 1rem;\n",
              "  width: 1rem;\n",
              "  text-decoration: none;\n",
              "  /* unfitted */\n",
              "  color: var(--sklearn-color-unfitted-level-1);\n",
              "  border: var(--sklearn-color-unfitted-level-1) 1pt solid;\n",
              "}\n",
              "\n",
              "#sk-container-id-2 a.estimator_doc_link.fitted {\n",
              "  /* fitted */\n",
              "  border: var(--sklearn-color-fitted-level-1) 1pt solid;\n",
              "  color: var(--sklearn-color-fitted-level-1);\n",
              "}\n",
              "\n",
              "/* On hover */\n",
              "#sk-container-id-2 a.estimator_doc_link:hover {\n",
              "  /* unfitted */\n",
              "  background-color: var(--sklearn-color-unfitted-level-3);\n",
              "  color: var(--sklearn-color-background);\n",
              "  text-decoration: none;\n",
              "}\n",
              "\n",
              "#sk-container-id-2 a.estimator_doc_link.fitted:hover {\n",
              "  /* fitted */\n",
              "  background-color: var(--sklearn-color-fitted-level-3);\n",
              "}\n",
              "</style><div id=\"sk-container-id-2\" class=\"sk-top-container\"><div class=\"sk-text-repr-fallback\"><pre>DecisionTreeClassifier(ccp_alpha=0.005, min_samples_leaf=5, random_state=88)</pre><b>In a Jupyter environment, please rerun this cell to show the HTML representation or trust the notebook. <br />On GitHub, the HTML representation is unable to render, please try loading this page with nbviewer.org.</b></div><div class=\"sk-container\" hidden><div class=\"sk-item\"><div class=\"sk-estimator fitted sk-toggleable\"><input class=\"sk-toggleable__control sk-hidden--visually\" id=\"sk-estimator-id-2\" type=\"checkbox\" checked><label for=\"sk-estimator-id-2\" class=\"sk-toggleable__label fitted sk-toggleable__label-arrow fitted\">&nbsp;&nbsp;DecisionTreeClassifier<a class=\"sk-estimator-doc-link fitted\" rel=\"noreferrer\" target=\"_blank\" href=\"https://scikit-learn.org/1.5/modules/generated/sklearn.tree.DecisionTreeClassifier.html\">?<span>Documentation for DecisionTreeClassifier</span></a><span class=\"sk-estimator-doc-link fitted\">i<span>Fitted</span></span></label><div class=\"sk-toggleable__content fitted\"><pre>DecisionTreeClassifier(ccp_alpha=0.005, min_samples_leaf=5, random_state=88)</pre></div> </div></div></div></div>"
            ]
          },
          "metadata": {},
          "execution_count": 19
        }
      ]
    },
    {
      "cell_type": "code",
      "source": [
        "# Plot the pruned tree\n",
        "plt.figure(figsize=(12, 8))\n",
        "plot_tree(dtc, filled=True, feature_names=X_train.columns, class_names=['0', '1'], rounded=True)\n",
        "plt.show()"
      ],
      "metadata": {
        "colab": {
          "base_uri": "https://localhost:8080/",
          "height": 653
        },
        "id": "M3YwGH3lSqko",
        "outputId": "10556b85-0f65-4e74-ea1f-73dcb57566f2"
      },
      "execution_count": null,
      "outputs": [
        {
          "output_type": "display_data",
          "data": {
            "text/plain": [
              "<Figure size 1200x800 with 1 Axes>"
            ],
            "image/png": "[encoded data removed]"
          },
          "metadata": {}
        }
      ]
    },
    {
      "cell_type": "markdown",
      "source": [
        "## Let's analyze the decision trees both before and after pruning!\n",
        "\n",
        "- Before applying the pruning method the model is complex, with multiple splits that may capture specific patterns but risk to overfitting and refelecting daa biases. However, after pruning, the model is simpler and more interpretable, focusing on prior_count and age_factor variables, but this simplicity may overlook important context and increase the risk of unfairly penalizing certain groups.\n",
        "\n",
        "- The pruned tree may improve fairness slightly by simplifying the model and reducing overfitting to specific cases. However, by focusing on just a few features, it could ignore potentially fairer predictive indicators, leading to biased predictions that fail to account for individual circumstances. The decision tree primarily categorizes individuals based on prior offenses and age, factors that, while predictive, may reflect broader social inequities rather than personal likelihood to reoffend. Using such a model in the criminal justice system could exacerbate existing disparities."
      ],
      "metadata": {
        "id": "UtgjQicTTKSf"
      }
    }
  ]
}